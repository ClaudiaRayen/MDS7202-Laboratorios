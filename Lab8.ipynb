{
  "cells": [
    {
      "cell_type": "markdown",
      "metadata": {
        "cell_id": "e651654461c3474fb2b0d36de22a6c14",
        "deepnote_cell_height": 103.53334045410156,
        "deepnote_cell_type": "markdown",
        "id": "XUZ1dFPHzAHl"
      },
      "source": [
        "<h1><center>Laboratorio 8: Aprendizaje Supervisado 🔮</center></h1>\n",
        "\n",
        "<center><strong>MDS7202: Laboratorio de Programación Científica para Ciencia de Datos</strong></center>"
      ]
    },
    {
      "cell_type": "markdown",
      "metadata": {
        "cell_id": "7a6943958920482eb851e608d1efb6ac",
        "deepnote_cell_type": "markdown",
        "id": "UD8X1uhGzAHq"
      },
      "source": [
        "### Cuerpo Docente:\n",
        "\n",
        "- Profesor: Ignacio Meza y Gabriel Iturra\n",
        "- Auxiliar: Sebastián Tinoco\n",
        "- Ayudante: Arturo Lazcano y Angelo Muñoz"
      ]
    },
    {
      "cell_type": "markdown",
      "metadata": {
        "cell_id": "0202c4ed94184a289e51ca5325b8afba",
        "deepnote_cell_height": 139.5,
        "deepnote_cell_type": "markdown",
        "id": "tXflExjqzAHr"
      },
      "source": [
        "### Equipo: SUPER IMPORTANTE - notebooks sin nombre no serán revisados\n",
        "\n",
        "- Nombre de alumno 1: Michelle Avendaño\n",
        "- Nombre de alumno 2: Claudia Navarro\n"
      ]
    },
    {
      "cell_type": "markdown",
      "metadata": {
        "cell_id": "ce180f8cd3f3485fabbe6c0959a648db",
        "deepnote_cell_height": 61.28334045410156,
        "deepnote_cell_type": "markdown",
        "id": "AD-V0bbZzAHr"
      },
      "source": [
        "### **Link de repositorio de GitHub:** `https://github.com/ClaudiaRayen/MDS7202-Laboratorios/tree/Lab8`"
      ]
    },
    {
      "cell_type": "markdown",
      "metadata": {
        "cell_id": "df3ab193db4a4f09ac25dbe605e3a83a",
        "deepnote_cell_height": 603.8499755859375,
        "deepnote_cell_type": "markdown",
        "id": "6uBLPj1PzAHs"
      },
      "source": [
        "## Temas a tratar\n",
        "\n",
        "- Aprendizaje Supervisado\n",
        "- Flujos de datos a través de `Pipelines`.\n",
        "\n",
        "## Reglas\n",
        "\n",
        "- **Grupos de 2 personas**\n",
        "- Asistencia **obligatoria** a instrucciones del lab (viernes 16.15). Luego, pueden quedarse trabajando en las salas o irse.\n",
        "- **No se revisarán entregas de personas ausentes**.\n",
        "- Cualquier duda fuera del horario de clases al foro. Mensajes al equipo docente serán respondidos por este medio.\n",
        "- Prohibidas las copias.\n",
        "- Pueden usar cualquer matrial del curso que estimen conveniente.\n",
        "\n",
        "## Objetivos principales del laboratorio\n",
        "\n",
        "- Comprender el funcionamiento de clasificadores/regresores.\n",
        "- Generar múltiples modelos predictivos.\n",
        "- Comprender las ventajas de crear modelos en pipeline vs hacer las operaciones a mano.\n",
        "\n",
        "El laboratorio deberá ser desarrollado sin el uso indiscriminado de iteradores nativos de python (aka \"for\", \"while\"). La idea es que aprendan a exprimir al máximo las funciones optimizadas que nos entrega `pandas`, las cuales vale mencionar, son bastante más eficientes que los iteradores nativos sobre `DataFrames`."
      ]
    },
    {
      "cell_type": "markdown",
      "metadata": {
        "cell_id": "ad2df18de2544420960174a3f424bc5c",
        "deepnote_cell_height": 61.133331298828125,
        "deepnote_cell_type": "markdown",
        "id": "MhISwri4zAHy"
      },
      "source": [
        "### Importamos librerias utiles 😸"
      ]
    },
    {
      "cell_type": "code",
      "execution_count": null,
      "metadata": {
        "ExecuteTime": {
          "end_time": "2021-03-29T00:08:16.884674Z",
          "start_time": "2021-03-29T00:08:16.349846Z"
        },
        "cell_id": "c99537db269c4b04970732c3cccac0c9",
        "colab": {
          "base_uri": "https://localhost:8080/"
        },
        "deepnote_cell_type": "code",
        "deepnote_to_be_reexecuted": false,
        "execution_millis": 7630,
        "execution_start": 1636741163382,
        "id": "uyc33dKdzAHy",
        "outputId": "2a395095-97de-4df3-9ed9-7b7a8833d900",
        "owner_user_id": "badcc427-fd3d-4615-9296-faa43ec69cfb",
        "source_hash": "cb3614e"
      },
      "outputs": [
        {
          "name": "stdout",
          "output_type": "stream",
          "text": [
            "Requirement already satisfied: plotly in /usr/local/lib/python3.10/dist-packages (5.18.0)\n",
            "Requirement already satisfied: tenacity>=6.2.0 in /usr/local/lib/python3.10/dist-packages (from plotly) (8.2.3)\n",
            "Requirement already satisfied: packaging in /usr/local/lib/python3.10/dist-packages (from plotly) (23.2)\n"
          ]
        }
      ],
      "source": [
        "# Libreria Core del lab.\n",
        "import numpy as np\n",
        "import pandas as pd\n",
        "from sklearn.pipeline import Pipeline\n",
        "from sklearn.compose import ColumnTransformer\n",
        "from sklearn.model_selection import train_test_split\n",
        "\n",
        "# Pre-procesamiento\n",
        "from sklearn.preprocessing import MinMaxScaler\n",
        "from sklearn.preprocessing import StandardScaler\n",
        "from sklearn.preprocessing import FunctionTransformer\n",
        "from sklearn.preprocessing import PowerTransformer\n",
        "from sklearn.preprocessing import OneHotEncoder\n",
        "from sklearn.tree import DecisionTreeClassifier\n",
        "\n",
        "# Metricas de evaluación\n",
        "from sklearn.metrics import classification_report\n",
        "from sklearn.metrics import accuracy_score\n",
        "from sklearn.metrics import f1_score\n",
        "from sklearn.metrics import cohen_kappa_score\n",
        "\n",
        "#Libreria para plotear\n",
        "!pip install --upgrade plotly\n",
        "import plotly.express as px\n",
        "from plotly.subplots import make_subplots\n",
        "import plotly.graph_objects as go"
      ]
    },
    {
      "cell_type": "markdown",
      "metadata": {
        "cell_id": "3960faa7a101458896294c72b4b0758c",
        "deepnote_cell_height": 51.53334045410156,
        "deepnote_cell_type": "markdown",
        "id": "5FTGE74b3FBU"
      },
      "source": [
        "https://www.kaggle.com/antoinekrajnc/soccer-players-statistics"
      ]
    },
    {
      "cell_type": "markdown",
      "metadata": {
        "cell_id": "f9e9147f05744f749e29d4134157f1f3",
        "deepnote_cell_height": 305.933349609375,
        "deepnote_cell_type": "markdown",
        "id": "xpOTbQcxbSiy"
      },
      "source": [
        "# 1. Predicciones Futboleras\n",
        "\n",
        "<p align=\"center\">\n",
        "  <img src=\"https://drive.google.com/uc?export=view&id=1BnO4tyh3vM2P199Ec9s3JjngQ4qQ9seP\"\n",
        "\" width=\"300\">\n",
        "</p>\n",
        "\n",
        "\n",
        "Tras el trágico despido de la mítica mascota de Maipú, Renacín decide adentrarse como consultor en el mercado futbolero, el cuál (para variar...) está cargado en especulaciones.\n",
        "\n",
        "Como su principal tarea será asesorar a los directivos de los clubes sobre cuál jugador comprar y cuál no, Renacín desea generar modelos predictivos que evaluén distintas características de los jugadores; todo con el fin de tomar decisiones concretas basadas en los datos.\n",
        "\n",
        "Sin embargo, su condición de corporeo le impidió tomar la versión anterior de MDS7202, por lo que este motivo Renacín contrata a su equipo para lograr su objetivo final. Dado que aún tiene fuertes vínculos con la dirección de deportes de la municipalidad, el corporeo le entrega base de datos con las estadísticas de cada jugador para que su equipo empieze a trabajar ya con un dataset listo para ser usado.\n"
      ]
    },
    {
      "cell_type": "markdown",
      "metadata": {
        "cell_id": "5b831ae5e73547a1ae5f96b453f1ab2d",
        "deepnote_cell_height": 169.13333129882812,
        "deepnote_cell_type": "markdown",
        "id": "jnmZfFpxTTYX"
      },
      "source": [
        "**Los Datos**\n",
        "\n",
        "Para este laboratorio deberán trabajar con los csv `statsplayers.csv` y `salarios.csv`, donde deberán aplicar algoritmos de de aprendizaje supervisado (clasificación y regresión) en base a características que describen de jugadores de futbol.\n",
        "\n",
        "Para comenzar cargue el dataset señalado y a continuación vea el reporte **`Player_Stats_Report.html`** (adjunto en la carpeta del enunciado) que describe las características principales del `DataFrame`."
      ]
    },
    {
      "cell_type": "code",
      "execution_count": null,
      "metadata": {
        "cell_id": "9b9505acaf3f4906bbfc1950b04d9dca",
        "colab": {
          "base_uri": "https://localhost:8080/"
        },
        "deepnote_cell_type": "code",
        "deepnote_to_be_reexecuted": false,
        "execution_millis": 7,
        "execution_start": 1636741171022,
        "id": "Jqq-s010Iwl1",
        "outputId": "ad730438-eaaf-49b6-da78-a90f025fb9f1",
        "source_hash": "c60dc4a7"
      },
      "outputs": [
        {
          "name": "stdout",
          "output_type": "stream",
          "text": [
            "Drive already mounted at /content/drive; to attempt to forcibly remount, call drive.mount(\"/content/drive\", force_remount=True).\n"
          ]
        }
      ],
      "source": [
        "# Si usted está utilizando Colabolatory le puede ser útil este código para cargar los archivos.\n",
        "try:\n",
        "    from google.colab import drive\n",
        "    drive.mount(\"/content/drive\")\n",
        "    path = 'Dirección donde tiene los archivos en el Drive'\n",
        "except:\n",
        "    print('Ignorando conexión drive-colab')"
      ]
    },
    {
      "cell_type": "code",
      "execution_count": null,
      "metadata": {
        "cell_id": "bbd60dabcba44542826c491f69c1f53c",
        "colab": {
          "base_uri": "https://localhost:8080/",
          "height": 617
        },
        "deepnote_cell_type": "code",
        "deepnote_to_be_reexecuted": false,
        "execution_millis": 184,
        "execution_start": 1636742947300,
        "id": "bED3w3tDbSCf",
        "outputId": "2b067ec6-b296-4195-e7ca-08f9e456e475",
        "source_hash": "65944a94"
      },
      "outputs": [
        {
          "data": {
            "text/html": [
              "\n",
              "  <div id=\"df-d217a578-1a1f-4618-9b1c-b8ccf63b8831\" class=\"colab-df-container\">\n",
              "    <div>\n",
              "<style scoped>\n",
              "    .dataframe tbody tr th:only-of-type {\n",
              "        vertical-align: middle;\n",
              "    }\n",
              "\n",
              "    .dataframe tbody tr th {\n",
              "        vertical-align: top;\n",
              "    }\n",
              "\n",
              "    .dataframe thead th {\n",
              "        text-align: right;\n",
              "    }\n",
              "</style>\n",
              "<table border=\"1\" class=\"dataframe\">\n",
              "  <thead>\n",
              "    <tr style=\"text-align: right;\">\n",
              "      <th></th>\n",
              "      <th>Name</th>\n",
              "      <th>Nationality</th>\n",
              "      <th>National_Position</th>\n",
              "      <th>Club_Position</th>\n",
              "      <th>Height</th>\n",
              "      <th>Weight</th>\n",
              "      <th>Preffered_Foot</th>\n",
              "      <th>Age</th>\n",
              "      <th>Work_Rate</th>\n",
              "      <th>Weak_foot</th>\n",
              "      <th>...</th>\n",
              "      <th>Agility</th>\n",
              "      <th>Jumping</th>\n",
              "      <th>Heading</th>\n",
              "      <th>Shot_Power</th>\n",
              "      <th>Finishing</th>\n",
              "      <th>Long_Shots</th>\n",
              "      <th>Curve</th>\n",
              "      <th>Freekick_Accuracy</th>\n",
              "      <th>Penalties</th>\n",
              "      <th>Volleys</th>\n",
              "    </tr>\n",
              "  </thead>\n",
              "  <tbody>\n",
              "    <tr>\n",
              "      <th>0</th>\n",
              "      <td>Cristiano Ronaldo</td>\n",
              "      <td>Portugal</td>\n",
              "      <td>LS</td>\n",
              "      <td>LW</td>\n",
              "      <td>185</td>\n",
              "      <td>80</td>\n",
              "      <td>Right</td>\n",
              "      <td>32</td>\n",
              "      <td>High / Low</td>\n",
              "      <td>4</td>\n",
              "      <td>...</td>\n",
              "      <td>90</td>\n",
              "      <td>95</td>\n",
              "      <td>85</td>\n",
              "      <td>92</td>\n",
              "      <td>93</td>\n",
              "      <td>90</td>\n",
              "      <td>81</td>\n",
              "      <td>76</td>\n",
              "      <td>85</td>\n",
              "      <td>88</td>\n",
              "    </tr>\n",
              "    <tr>\n",
              "      <th>1</th>\n",
              "      <td>Lionel Messi</td>\n",
              "      <td>Argentina</td>\n",
              "      <td>RW</td>\n",
              "      <td>RW</td>\n",
              "      <td>170</td>\n",
              "      <td>72</td>\n",
              "      <td>Left</td>\n",
              "      <td>29</td>\n",
              "      <td>Medium / Medium</td>\n",
              "      <td>4</td>\n",
              "      <td>...</td>\n",
              "      <td>90</td>\n",
              "      <td>68</td>\n",
              "      <td>71</td>\n",
              "      <td>85</td>\n",
              "      <td>95</td>\n",
              "      <td>88</td>\n",
              "      <td>89</td>\n",
              "      <td>90</td>\n",
              "      <td>74</td>\n",
              "      <td>85</td>\n",
              "    </tr>\n",
              "    <tr>\n",
              "      <th>2</th>\n",
              "      <td>Neymar</td>\n",
              "      <td>Brazil</td>\n",
              "      <td>LW</td>\n",
              "      <td>LW</td>\n",
              "      <td>174</td>\n",
              "      <td>68</td>\n",
              "      <td>Right</td>\n",
              "      <td>25</td>\n",
              "      <td>High / Medium</td>\n",
              "      <td>5</td>\n",
              "      <td>...</td>\n",
              "      <td>96</td>\n",
              "      <td>61</td>\n",
              "      <td>62</td>\n",
              "      <td>78</td>\n",
              "      <td>89</td>\n",
              "      <td>77</td>\n",
              "      <td>79</td>\n",
              "      <td>84</td>\n",
              "      <td>81</td>\n",
              "      <td>83</td>\n",
              "    </tr>\n",
              "    <tr>\n",
              "      <th>3</th>\n",
              "      <td>Luis Suárez</td>\n",
              "      <td>Uruguay</td>\n",
              "      <td>LS</td>\n",
              "      <td>ST</td>\n",
              "      <td>182</td>\n",
              "      <td>85</td>\n",
              "      <td>Right</td>\n",
              "      <td>30</td>\n",
              "      <td>High / Medium</td>\n",
              "      <td>4</td>\n",
              "      <td>...</td>\n",
              "      <td>86</td>\n",
              "      <td>69</td>\n",
              "      <td>77</td>\n",
              "      <td>87</td>\n",
              "      <td>94</td>\n",
              "      <td>86</td>\n",
              "      <td>86</td>\n",
              "      <td>84</td>\n",
              "      <td>85</td>\n",
              "      <td>88</td>\n",
              "    </tr>\n",
              "    <tr>\n",
              "      <th>4</th>\n",
              "      <td>Manuel Neuer</td>\n",
              "      <td>Germany</td>\n",
              "      <td>GK</td>\n",
              "      <td>GK</td>\n",
              "      <td>193</td>\n",
              "      <td>92</td>\n",
              "      <td>Right</td>\n",
              "      <td>31</td>\n",
              "      <td>Medium / Medium</td>\n",
              "      <td>4</td>\n",
              "      <td>...</td>\n",
              "      <td>52</td>\n",
              "      <td>78</td>\n",
              "      <td>25</td>\n",
              "      <td>25</td>\n",
              "      <td>13</td>\n",
              "      <td>16</td>\n",
              "      <td>14</td>\n",
              "      <td>11</td>\n",
              "      <td>47</td>\n",
              "      <td>11</td>\n",
              "    </tr>\n",
              "    <tr>\n",
              "      <th>...</th>\n",
              "      <td>...</td>\n",
              "      <td>...</td>\n",
              "      <td>...</td>\n",
              "      <td>...</td>\n",
              "      <td>...</td>\n",
              "      <td>...</td>\n",
              "      <td>...</td>\n",
              "      <td>...</td>\n",
              "      <td>...</td>\n",
              "      <td>...</td>\n",
              "      <td>...</td>\n",
              "      <td>...</td>\n",
              "      <td>...</td>\n",
              "      <td>...</td>\n",
              "      <td>...</td>\n",
              "      <td>...</td>\n",
              "      <td>...</td>\n",
              "      <td>...</td>\n",
              "      <td>...</td>\n",
              "      <td>...</td>\n",
              "      <td>...</td>\n",
              "    </tr>\n",
              "    <tr>\n",
              "      <th>17583</th>\n",
              "      <td>Adam Dunbar</td>\n",
              "      <td>Republic of Ireland</td>\n",
              "      <td>NaN</td>\n",
              "      <td>Sub</td>\n",
              "      <td>183</td>\n",
              "      <td>82</td>\n",
              "      <td>Right</td>\n",
              "      <td>19</td>\n",
              "      <td>Medium / Medium</td>\n",
              "      <td>1</td>\n",
              "      <td>...</td>\n",
              "      <td>27</td>\n",
              "      <td>56</td>\n",
              "      <td>14</td>\n",
              "      <td>16</td>\n",
              "      <td>13</td>\n",
              "      <td>13</td>\n",
              "      <td>11</td>\n",
              "      <td>13</td>\n",
              "      <td>15</td>\n",
              "      <td>12</td>\n",
              "    </tr>\n",
              "    <tr>\n",
              "      <th>17584</th>\n",
              "      <td>Dylan McGoey</td>\n",
              "      <td>Republic of Ireland</td>\n",
              "      <td>NaN</td>\n",
              "      <td>Sub</td>\n",
              "      <td>185</td>\n",
              "      <td>80</td>\n",
              "      <td>Right</td>\n",
              "      <td>19</td>\n",
              "      <td>Medium / Medium</td>\n",
              "      <td>2</td>\n",
              "      <td>...</td>\n",
              "      <td>28</td>\n",
              "      <td>53</td>\n",
              "      <td>12</td>\n",
              "      <td>17</td>\n",
              "      <td>12</td>\n",
              "      <td>11</td>\n",
              "      <td>12</td>\n",
              "      <td>13</td>\n",
              "      <td>16</td>\n",
              "      <td>12</td>\n",
              "    </tr>\n",
              "    <tr>\n",
              "      <th>17585</th>\n",
              "      <td>Tommy Ouldridge</td>\n",
              "      <td>England</td>\n",
              "      <td>NaN</td>\n",
              "      <td>Res</td>\n",
              "      <td>173</td>\n",
              "      <td>61</td>\n",
              "      <td>Right</td>\n",
              "      <td>18</td>\n",
              "      <td>High / Medium</td>\n",
              "      <td>2</td>\n",
              "      <td>...</td>\n",
              "      <td>54</td>\n",
              "      <td>61</td>\n",
              "      <td>41</td>\n",
              "      <td>44</td>\n",
              "      <td>28</td>\n",
              "      <td>42</td>\n",
              "      <td>35</td>\n",
              "      <td>36</td>\n",
              "      <td>42</td>\n",
              "      <td>37</td>\n",
              "    </tr>\n",
              "    <tr>\n",
              "      <th>17586</th>\n",
              "      <td>Mark Foden</td>\n",
              "      <td>Scotland</td>\n",
              "      <td>NaN</td>\n",
              "      <td>Sub</td>\n",
              "      <td>180</td>\n",
              "      <td>80</td>\n",
              "      <td>Right</td>\n",
              "      <td>21</td>\n",
              "      <td>Medium / Medium</td>\n",
              "      <td>3</td>\n",
              "      <td>...</td>\n",
              "      <td>34</td>\n",
              "      <td>48</td>\n",
              "      <td>15</td>\n",
              "      <td>23</td>\n",
              "      <td>14</td>\n",
              "      <td>12</td>\n",
              "      <td>13</td>\n",
              "      <td>12</td>\n",
              "      <td>24</td>\n",
              "      <td>12</td>\n",
              "    </tr>\n",
              "    <tr>\n",
              "      <th>17587</th>\n",
              "      <td>Barry Richardson</td>\n",
              "      <td>England</td>\n",
              "      <td>NaN</td>\n",
              "      <td>Sub</td>\n",
              "      <td>185</td>\n",
              "      <td>77</td>\n",
              "      <td>Right</td>\n",
              "      <td>47</td>\n",
              "      <td>Medium / Medium</td>\n",
              "      <td>2</td>\n",
              "      <td>...</td>\n",
              "      <td>38</td>\n",
              "      <td>51</td>\n",
              "      <td>12</td>\n",
              "      <td>13</td>\n",
              "      <td>11</td>\n",
              "      <td>16</td>\n",
              "      <td>12</td>\n",
              "      <td>11</td>\n",
              "      <td>22</td>\n",
              "      <td>12</td>\n",
              "    </tr>\n",
              "  </tbody>\n",
              "</table>\n",
              "<p>17588 rows × 39 columns</p>\n",
              "</div>\n",
              "    <div class=\"colab-df-buttons\">\n",
              "\n",
              "  <div class=\"colab-df-container\">\n",
              "    <button class=\"colab-df-convert\" onclick=\"convertToInteractive('df-d217a578-1a1f-4618-9b1c-b8ccf63b8831')\"\n",
              "            title=\"Convert this dataframe to an interactive table.\"\n",
              "            style=\"display:none;\">\n",
              "\n",
              "  <svg xmlns=\"http://www.w3.org/2000/svg\" height=\"24px\" viewBox=\"0 -960 960 960\">\n",
              "    <path d=\"M120-120v-720h720v720H120Zm60-500h600v-160H180v160Zm220 220h160v-160H400v160Zm0 220h160v-160H400v160ZM180-400h160v-160H180v160Zm440 0h160v-160H620v160ZM180-180h160v-160H180v160Zm440 0h160v-160H620v160Z\"/>\n",
              "  </svg>\n",
              "    </button>\n",
              "\n",
              "  <style>\n",
              "    .colab-df-container {\n",
              "      display:flex;\n",
              "      gap: 12px;\n",
              "    }\n",
              "\n",
              "    .colab-df-convert {\n",
              "      background-color: #E8F0FE;\n",
              "      border: none;\n",
              "      border-radius: 50%;\n",
              "      cursor: pointer;\n",
              "      display: none;\n",
              "      fill: #1967D2;\n",
              "      height: 32px;\n",
              "      padding: 0 0 0 0;\n",
              "      width: 32px;\n",
              "    }\n",
              "\n",
              "    .colab-df-convert:hover {\n",
              "      background-color: #E2EBFA;\n",
              "      box-shadow: 0px 1px 2px rgba(60, 64, 67, 0.3), 0px 1px 3px 1px rgba(60, 64, 67, 0.15);\n",
              "      fill: #174EA6;\n",
              "    }\n",
              "\n",
              "    .colab-df-buttons div {\n",
              "      margin-bottom: 4px;\n",
              "    }\n",
              "\n",
              "    [theme=dark] .colab-df-convert {\n",
              "      background-color: #3B4455;\n",
              "      fill: #D2E3FC;\n",
              "    }\n",
              "\n",
              "    [theme=dark] .colab-df-convert:hover {\n",
              "      background-color: #434B5C;\n",
              "      box-shadow: 0px 1px 3px 1px rgba(0, 0, 0, 0.15);\n",
              "      filter: drop-shadow(0px 1px 2px rgba(0, 0, 0, 0.3));\n",
              "      fill: #FFFFFF;\n",
              "    }\n",
              "  </style>\n",
              "\n",
              "    <script>\n",
              "      const buttonEl =\n",
              "        document.querySelector('#df-d217a578-1a1f-4618-9b1c-b8ccf63b8831 button.colab-df-convert');\n",
              "      buttonEl.style.display =\n",
              "        google.colab.kernel.accessAllowed ? 'block' : 'none';\n",
              "\n",
              "      async function convertToInteractive(key) {\n",
              "        const element = document.querySelector('#df-d217a578-1a1f-4618-9b1c-b8ccf63b8831');\n",
              "        const dataTable =\n",
              "          await google.colab.kernel.invokeFunction('convertToInteractive',\n",
              "                                                    [key], {});\n",
              "        if (!dataTable) return;\n",
              "\n",
              "        const docLinkHtml = 'Like what you see? Visit the ' +\n",
              "          '<a target=\"_blank\" href=https://colab.research.google.com/notebooks/data_table.ipynb>data table notebook</a>'\n",
              "          + ' to learn more about interactive tables.';\n",
              "        element.innerHTML = '';\n",
              "        dataTable['output_type'] = 'display_data';\n",
              "        await google.colab.output.renderOutput(dataTable, element);\n",
              "        const docLink = document.createElement('div');\n",
              "        docLink.innerHTML = docLinkHtml;\n",
              "        element.appendChild(docLink);\n",
              "      }\n",
              "    </script>\n",
              "  </div>\n",
              "\n",
              "\n",
              "<div id=\"df-34271f74-1fb4-4f6c-abe8-c3169a056aad\">\n",
              "  <button class=\"colab-df-quickchart\" onclick=\"quickchart('df-34271f74-1fb4-4f6c-abe8-c3169a056aad')\"\n",
              "            title=\"Suggest charts.\"\n",
              "            style=\"display:none;\">\n",
              "\n",
              "<svg xmlns=\"http://www.w3.org/2000/svg\" height=\"24px\"viewBox=\"0 0 24 24\"\n",
              "     width=\"24px\">\n",
              "    <g>\n",
              "        <path d=\"M19 3H5c-1.1 0-2 .9-2 2v14c0 1.1.9 2 2 2h14c1.1 0 2-.9 2-2V5c0-1.1-.9-2-2-2zM9 17H7v-7h2v7zm4 0h-2V7h2v10zm4 0h-2v-4h2v4z\"/>\n",
              "    </g>\n",
              "</svg>\n",
              "  </button>\n",
              "\n",
              "<style>\n",
              "  .colab-df-quickchart {\n",
              "      --bg-color: #E8F0FE;\n",
              "      --fill-color: #1967D2;\n",
              "      --hover-bg-color: #E2EBFA;\n",
              "      --hover-fill-color: #174EA6;\n",
              "      --disabled-fill-color: #AAA;\n",
              "      --disabled-bg-color: #DDD;\n",
              "  }\n",
              "\n",
              "  [theme=dark] .colab-df-quickchart {\n",
              "      --bg-color: #3B4455;\n",
              "      --fill-color: #D2E3FC;\n",
              "      --hover-bg-color: #434B5C;\n",
              "      --hover-fill-color: #FFFFFF;\n",
              "      --disabled-bg-color: #3B4455;\n",
              "      --disabled-fill-color: #666;\n",
              "  }\n",
              "\n",
              "  .colab-df-quickchart {\n",
              "    background-color: var(--bg-color);\n",
              "    border: none;\n",
              "    border-radius: 50%;\n",
              "    cursor: pointer;\n",
              "    display: none;\n",
              "    fill: var(--fill-color);\n",
              "    height: 32px;\n",
              "    padding: 0;\n",
              "    width: 32px;\n",
              "  }\n",
              "\n",
              "  .colab-df-quickchart:hover {\n",
              "    background-color: var(--hover-bg-color);\n",
              "    box-shadow: 0 1px 2px rgba(60, 64, 67, 0.3), 0 1px 3px 1px rgba(60, 64, 67, 0.15);\n",
              "    fill: var(--button-hover-fill-color);\n",
              "  }\n",
              "\n",
              "  .colab-df-quickchart-complete:disabled,\n",
              "  .colab-df-quickchart-complete:disabled:hover {\n",
              "    background-color: var(--disabled-bg-color);\n",
              "    fill: var(--disabled-fill-color);\n",
              "    box-shadow: none;\n",
              "  }\n",
              "\n",
              "  .colab-df-spinner {\n",
              "    border: 2px solid var(--fill-color);\n",
              "    border-color: transparent;\n",
              "    border-bottom-color: var(--fill-color);\n",
              "    animation:\n",
              "      spin 1s steps(1) infinite;\n",
              "  }\n",
              "\n",
              "  @keyframes spin {\n",
              "    0% {\n",
              "      border-color: transparent;\n",
              "      border-bottom-color: var(--fill-color);\n",
              "      border-left-color: var(--fill-color);\n",
              "    }\n",
              "    20% {\n",
              "      border-color: transparent;\n",
              "      border-left-color: var(--fill-color);\n",
              "      border-top-color: var(--fill-color);\n",
              "    }\n",
              "    30% {\n",
              "      border-color: transparent;\n",
              "      border-left-color: var(--fill-color);\n",
              "      border-top-color: var(--fill-color);\n",
              "      border-right-color: var(--fill-color);\n",
              "    }\n",
              "    40% {\n",
              "      border-color: transparent;\n",
              "      border-right-color: var(--fill-color);\n",
              "      border-top-color: var(--fill-color);\n",
              "    }\n",
              "    60% {\n",
              "      border-color: transparent;\n",
              "      border-right-color: var(--fill-color);\n",
              "    }\n",
              "    80% {\n",
              "      border-color: transparent;\n",
              "      border-right-color: var(--fill-color);\n",
              "      border-bottom-color: var(--fill-color);\n",
              "    }\n",
              "    90% {\n",
              "      border-color: transparent;\n",
              "      border-bottom-color: var(--fill-color);\n",
              "    }\n",
              "  }\n",
              "</style>\n",
              "\n",
              "  <script>\n",
              "    async function quickchart(key) {\n",
              "      const quickchartButtonEl =\n",
              "        document.querySelector('#' + key + ' button');\n",
              "      quickchartButtonEl.disabled = true;  // To prevent multiple clicks.\n",
              "      quickchartButtonEl.classList.add('colab-df-spinner');\n",
              "      try {\n",
              "        const charts = await google.colab.kernel.invokeFunction(\n",
              "            'suggestCharts', [key], {});\n",
              "      } catch (error) {\n",
              "        console.error('Error during call to suggestCharts:', error);\n",
              "      }\n",
              "      quickchartButtonEl.classList.remove('colab-df-spinner');\n",
              "      quickchartButtonEl.classList.add('colab-df-quickchart-complete');\n",
              "    }\n",
              "    (() => {\n",
              "      let quickchartButtonEl =\n",
              "        document.querySelector('#df-34271f74-1fb4-4f6c-abe8-c3169a056aad button');\n",
              "      quickchartButtonEl.style.display =\n",
              "        google.colab.kernel.accessAllowed ? 'block' : 'none';\n",
              "    })();\n",
              "  </script>\n",
              "</div>\n",
              "    </div>\n",
              "  </div>\n"
            ],
            "text/plain": [
              "                    Name          Nationality National_Position Club_Position  \\\n",
              "0      Cristiano Ronaldo             Portugal                LS            LW   \n",
              "1           Lionel Messi            Argentina                RW            RW   \n",
              "2                 Neymar               Brazil                LW            LW   \n",
              "3            Luis Suárez              Uruguay                LS            ST   \n",
              "4           Manuel Neuer              Germany                GK            GK   \n",
              "...                  ...                  ...               ...           ...   \n",
              "17583        Adam Dunbar  Republic of Ireland               NaN           Sub   \n",
              "17584       Dylan McGoey  Republic of Ireland               NaN           Sub   \n",
              "17585    Tommy Ouldridge              England               NaN           Res   \n",
              "17586         Mark Foden             Scotland               NaN           Sub   \n",
              "17587   Barry Richardson              England               NaN           Sub   \n",
              "\n",
              "       Height  Weight Preffered_Foot  Age        Work_Rate  Weak_foot  ...  \\\n",
              "0         185      80          Right   32       High / Low          4  ...   \n",
              "1         170      72           Left   29  Medium / Medium          4  ...   \n",
              "2         174      68          Right   25    High / Medium          5  ...   \n",
              "3         182      85          Right   30    High / Medium          4  ...   \n",
              "4         193      92          Right   31  Medium / Medium          4  ...   \n",
              "...       ...     ...            ...  ...              ...        ...  ...   \n",
              "17583     183      82          Right   19  Medium / Medium          1  ...   \n",
              "17584     185      80          Right   19  Medium / Medium          2  ...   \n",
              "17585     173      61          Right   18    High / Medium          2  ...   \n",
              "17586     180      80          Right   21  Medium / Medium          3  ...   \n",
              "17587     185      77          Right   47  Medium / Medium          2  ...   \n",
              "\n",
              "       Agility  Jumping  Heading  Shot_Power  Finishing  Long_Shots  Curve  \\\n",
              "0           90       95       85          92         93          90     81   \n",
              "1           90       68       71          85         95          88     89   \n",
              "2           96       61       62          78         89          77     79   \n",
              "3           86       69       77          87         94          86     86   \n",
              "4           52       78       25          25         13          16     14   \n",
              "...        ...      ...      ...         ...        ...         ...    ...   \n",
              "17583       27       56       14          16         13          13     11   \n",
              "17584       28       53       12          17         12          11     12   \n",
              "17585       54       61       41          44         28          42     35   \n",
              "17586       34       48       15          23         14          12     13   \n",
              "17587       38       51       12          13         11          16     12   \n",
              "\n",
              "       Freekick_Accuracy  Penalties  Volleys  \n",
              "0                     76         85       88  \n",
              "1                     90         74       85  \n",
              "2                     84         81       83  \n",
              "3                     84         85       88  \n",
              "4                     11         47       11  \n",
              "...                  ...        ...      ...  \n",
              "17583                 13         15       12  \n",
              "17584                 13         16       12  \n",
              "17585                 36         42       37  \n",
              "17586                 12         24       12  \n",
              "17587                 11         22       12  \n",
              "\n",
              "[17588 rows x 39 columns]"
            ]
          },
          "execution_count": 93,
          "metadata": {},
          "output_type": "execute_result"
        }
      ],
      "source": [
        "df_players = pd.read_csv('/content/drive/MyDrive/lab8/stats_players.csv')\n",
        "df_players"
      ]
    },
    {
      "cell_type": "markdown",
      "metadata": {
        "cell_id": "9e9e7d5dbc2f420ba40afb038a3c7b37",
        "deepnote_cell_height": 169.93333435058594,
        "deepnote_cell_type": "markdown",
        "id": "2R3b7Qe501t5",
        "owner_user_id": "d50c3174-babb-4861-9c71-7e3af66458b8"
      },
      "source": [
        "## 1.1 Predicción de Seleccionados Nacionales\n",
        "\n",
        "Como primera tarea, Renacín, intrigado por la posibilidad de saber qué tan reconocido es un jugador, le consulta a su equipo si es posible predecir si un jugador será o no seleccionado nacional a partir de sus estadísticas en el juego.\n",
        "\n",
        "<p align=\"center\">\n",
        "  <img src=\"https://thumbs.gfycat.com/ThornyFrankFoxhound-size_restricted.gif\" width=\"500\">\n",
        "</p>"
      ]
    },
    {
      "cell_type": "markdown",
      "metadata": {
        "cell_id": "4fd0ec6793474c6e8dd304827ef35c74",
        "deepnote_cell_height": 158.3333282470703,
        "deepnote_cell_type": "markdown",
        "id": "PIe_Ha58pQRC"
      },
      "source": [
        "### 1.1.1 Generación de Labels para la Clasificación [Sin Puntaje]\n",
        "\n",
        "\n",
        "Primero comience generando las labels para la clasificación. Para esto, trabaje sobre el atributo ```National_Position``` suponiendo que los valores nulos son jugadores no seleccionados para representar a su país.\n",
        "\n",
        "Hecho esto, ¿Cuantos ejemplos por cada clase se tienen? Comente lo que observa.\n",
        "\n"
      ]
    },
    {
      "cell_type": "markdown",
      "metadata": {
        "cell_id": "4bafb6f1da424f84be4eceb20d100d91",
        "deepnote_cell_height": 51.53334045410156,
        "deepnote_cell_type": "markdown",
        "id": "-xurUDOq_Fda",
        "tags": []
      },
      "source": [
        "**Respuesta:**"
      ]
    },
    {
      "cell_type": "code",
      "execution_count": null,
      "metadata": {
        "cell_id": "c95e6cb3ab91410fb2151acbdc068908",
        "colab": {
          "base_uri": "https://localhost:8080/"
        },
        "deepnote_cell_type": "code",
        "deepnote_to_be_reexecuted": false,
        "execution_millis": 3,
        "execution_start": 1636741171250,
        "id": "uwKaIuho4lqn",
        "outputId": "1f8811a4-e2b3-4cc9-a775-9c7e646c1080",
        "source_hash": "43ce1981"
      },
      "outputs": [
        {
          "data": {
            "text/plain": [
              "0    16513\n",
              "1     1075\n",
              "Name: Seleccionado, dtype: int64"
            ]
          },
          "execution_count": 94,
          "metadata": {},
          "output_type": "execute_result"
        }
      ],
      "source": [
        "\n",
        "df_players['Seleccionado'] = ~df_players.loc[:,'National_Position'].isna()*1\n",
        "df_players['Seleccionado'].value_counts()\n"
      ]
    },
    {
      "cell_type": "markdown",
      "metadata": {
        "id": "6jKmKmp9CwKi"
      },
      "source": [
        "Se crea una nueva columna llamada 'Seleccionado' que contiene 1 si la columna 'National_Position' no es un valor nulo y 0 si lo es. Luego, se\n",
        "cuentan los valores que fueron seleccionados y no seleccionados. En donde los seleccionados son 1075 y los no seleccionados 16513."
      ]
    },
    {
      "cell_type": "markdown",
      "metadata": {
        "cell_id": "882716f31dd4415983e3ed8e403ddcf0",
        "deepnote_cell_height": 678.1500244140625,
        "deepnote_cell_type": "markdown",
        "id": "0F70XPRFpWH9"
      },
      "source": [
        "### 1.1.2 Camino a la clasificación [1 punto]\n",
        "\n",
        "<p align=\"center\">\n",
        "  <img src=\"https://c.tenor.com/SoXZJHWnhKAAAAAC/pitbull-medel.gif\" width=\"500\">\n",
        "</p>\n",
        "\n",
        "Para preprocesar el dataset, genere un `ColumnTransformer` en donde especifique las transformaciones que hay que realizar para cada columna (por ejemplo StandarScaler, MinMaxScaler, OneHotEncoder, etc...) para que puedan ser utilizadas correctamente por el modelo predictivo y guardelo en algúna variable.\n",
        "\n",
        "Luego, comente y justifique las transformaciones elegidas sobre cada una de las variables (para esto utilice el material ```Player_Stats_Report.html``` que viene en el zip del lab), al igual que las transformaciones aplicadas.\n",
        "\n",
        "Hecho lo anterior, **defina al menos 3 pipelines para la clasificación**, en donde utilice el mismo ColumnTransformer definido anteriormente, pero que varie entre cada pipeline los clasificadores.\n",
        "\n",
        "Para seleccionar los clasificadores más adecuados, utilice la siguiente guía:\n",
        "\n",
        "<p align=\"center\">\n",
        "  <img src=\"https://scikit-learn.org/stable/_static/ml_map.png\" width=\"500\">\n",
        "</p>\n",
        "\n",
        "<br/>\n",
        "\n",
        "Con ella, comente y justifique cada una de las decisiones tomadas al momento de desarrollar su pipeline.\n",
        "\n",
        "**Nota:** Si tiene problemas al utilizar OneHotEncoder puede utilizar el parámetro handle_unknown='ignore'. Esto hace que en la codificación se omitan las categorias que no aparecen en el entrenamiento. Pregunta dudosa (no tiene puntaje), ¿esto tiene sentido a nivel de modelos?.\n",
        "\n",
        "**To-Do:**\n",
        "\n",
        "- [ ] Genere un ```ColumnTransformer``` enfocado en preprocesar los datos.\n",
        "- [ ] Indicar y Justificar que preprocesamiento utiliza sobre cada columna.\n",
        "- [ ] Crear 3 ``pipelines`` con diferentes clasificadores.\n",
        "- [ ] Para seleccionar los clasificadores base sus decisiones en la siguiente [guía](https://scikit-learn.org/stable/tutorial/machine_learning_map/index.html)\n",
        "- [ ] No entrenar los ``pipelines`` aún.\n",
        "\n",
        "**Nota:** No es necesario entrenar los clasificadores aún."
      ]
    },
    {
      "cell_type": "markdown",
      "metadata": {
        "cell_id": "494effcc7471436084ebd22e15296fb9",
        "deepnote_cell_height": 51.53334045410156,
        "deepnote_cell_type": "markdown",
        "id": "vEAzXtWM_Fdc",
        "tags": []
      },
      "source": [
        "En primer lugar, se analizan los diferentes tipos de variables y se clasifican en cuatro categorías: texto, numéricas, categóricas u ordinales. A continuación, se decide aplicar el Standard Scaler a las variables numéricas, dado que su distribución se asemeja a una distribución normal. Por otro lado, para las columnas categóricas se opta por utilizar el One-Hot Encoder, ya que representan categorías sin un orden específico. Por último, se elige el Ordinal Encoder para la variable 'Week_foot', ya que esta variable implica un orden específico relacionado con el mejor o peor uso de la pierna débil."
      ]
    },
    {
      "cell_type": "code",
      "execution_count": null,
      "metadata": {
        "id": "wtIKs9pyFufz"
      },
      "outputs": [],
      "source": [
        "numericas = ['Age','Weight','Height','Ball_Control', 'Dribbling', 'Marking', 'Sliding_Tackle',\n",
        "       'Standing_Tackle', 'Aggression', 'Reactions', 'Interceptions', 'Vision',\n",
        "       'Composure', 'Crossing', 'Short_Pass', 'Long_Pass', 'Acceleration',\n",
        "       'Speed', 'Stamina', 'Strength', 'Balance', 'Agility', 'Jumping',\n",
        "       'Heading', 'Shot_Power', 'Finishing', 'Long_Shots', 'Curve',\n",
        "       'Freekick_Accuracy', 'Penalties', 'Volleys']\n",
        "categoricas = ['Preffered_Foot','Work_Rate','Skill_Moves']\n",
        "ordinales = ['Weak_foot']\n",
        "texto = ['Name','Club_Position','Nationality','National_Position','Seleccionado']"
      ]
    },
    {
      "cell_type": "code",
      "execution_count": null,
      "metadata": {
        "cell_id": "3405035b85c6475594991b29a465a506",
        "deepnote_cell_height": 65.13333129882812,
        "deepnote_cell_type": "code",
        "id": "7cJ010Gt_Fdc",
        "tags": []
      },
      "outputs": [],
      "source": [
        "from sklearn.preprocessing import OrdinalEncoder\n",
        "ct = ColumnTransformer(\n",
        "    [\n",
        "        ('Scaler',MinMaxScaler(),numericas),\n",
        "        ('One Hot',OneHotEncoder(sparse=False, handle_unknown=\"ignore\",drop='if_binary'),categoricas),\n",
        "        ('Ordinal',OrdinalEncoder(),ordinales)\n",
        "    ],\n",
        "    remainder='passthrough'\n",
        ")"
      ]
    },
    {
      "cell_type": "markdown",
      "metadata": {
        "id": "NyoqZ-I3IIY7"
      },
      "source": [
        "Siguiendo el gráfico proporcionado para la selección de modelos, se observa que hay menos de 100,000 ejemplos disponibles. En este contexto, se opta por utilizar un modelo de Linear SVC debido a la naturaleza de los datos. Además, como los datos no son de tipo texto, se selecciona K Nearest Neighbor. Por último, se elige implementar un ensamblado de árboles, específicamente un Random Forest, como estrategia de modelado."
      ]
    },
    {
      "cell_type": "code",
      "execution_count": null,
      "metadata": {
        "id": "gHGIebLaKD8-"
      },
      "outputs": [],
      "source": [
        "from sklearn.ensemble import RandomForestClassifier\n",
        "from sklearn.neighbors import KNeighborsClassifier\n",
        "from sklearn.svm import SVC\n",
        "\n",
        "pip_svc = Pipeline(steps=[\n",
        "                      (\"preprocessing\", ct),\n",
        "                      (\"model\",SVC(kernel='linear',random_state=42) )\n",
        "])\n",
        "\n",
        "pip_knn = Pipeline(steps=[\n",
        "                      (\"preprocessing\", ct),\n",
        "                      (\"model\",KNeighborsClassifier() )\n",
        "])\n",
        "\n",
        "pip_rf = Pipeline(steps=[\n",
        "                      (\"preprocessing\", ct),\n",
        "                      (\"model\",RandomForestClassifier(random_state=42) )\n",
        "])"
      ]
    },
    {
      "cell_type": "markdown",
      "metadata": {
        "cell_id": "b7fa6937d9a043fd93b7966fb0e81861",
        "deepnote_cell_height": 101.13333129882812,
        "deepnote_cell_type": "markdown",
        "id": "MpKq6oO3vCNL"
      },
      "source": [
        "### 1.1.3 Entrenemos los pipelines [1 punto]\n",
        "\n",
        "<p align=\"center\">\n",
        "  <img src=\"https://i.gifer.com/7Cc8.gif\" width=\"350\">\n",
        "</p>\n"
      ]
    },
    {
      "cell_type": "markdown",
      "metadata": {
        "cell_id": "5ead21d7e26d4e3da1486c9937f22968",
        "deepnote_cell_height": 454.433349609375,
        "deepnote_cell_type": "markdown",
        "id": "wE_1aZaIvOeN"
      },
      "source": [
        "Ahora, entrene los `pipeline` generados en los pasos anteriores. Para esto, primero separe los datos de entrenamiento en un conjunto de entrenamiento y de prueba  (la proporción queda a su juicio).\n",
        "\n",
        "En este paso, seleccione los ejemplos de forma aleatoria e intente mantener la distribución original de labels de cada clase en los conjuntos de prueba/entrenamiento. (vea la documentación de `train_test_split`).\n",
        "\n",
        "\n",
        "Luego, entrene los pipelines\n",
        "\n",
        "Una vez entrenado su modelo, evalue su rendimiento a través de diferentes métricas, comentando que significa cada uno de los valores obtenidos. Puede usar la función `classification_report` para corroborar sus resultados.\n",
        "\n",
        "- ¿Qué implican los valores de accuracy, precisión y recall de la clase positiva (la que indica que un jugador es seleccionado nacional)?\n",
        "- ¿Podrían mejorarse los resultados?, ¿Cómo?\n",
        "- ¿Influye la cantidad de ejemplos por clase?\n",
        "\n",
        "**To-Do**:\n",
        "\n",
        "- [ ] Separar el conjunto de datos en entrenamiento y de prueba.\n",
        "- [ ] Entrenar los `pipelines`.\n",
        "- [ ] Utilizar las métricas para evaluar los modelos generados.\n"
      ]
    },
    {
      "cell_type": "markdown",
      "metadata": {
        "cell_id": "053a95315e3245b39ba9d263d932e7d4",
        "deepnote_cell_height": 51.53334045410156,
        "deepnote_cell_type": "markdown",
        "id": "Zsz0k6___Fdd",
        "tags": []
      },
      "source": [
        "**Respuesta:**"
      ]
    },
    {
      "cell_type": "code",
      "execution_count": null,
      "metadata": {
        "cell_id": "0148b8e4a7e24b838381dbee30b31758",
        "deepnote_cell_height": 65.13333129882812,
        "deepnote_cell_type": "code",
        "id": "rgL6iD4L_Fde",
        "tags": []
      },
      "outputs": [],
      "source": [
        "labels = df_players.loc[:, \"Seleccionado\"]\n",
        "features = df_players.drop(columns=texto)\n",
        "#80% entrenamiento y 20% test\n",
        "X_train, X_test, y_train, y_test = train_test_split(features,labels,test_size=0.2,random_state=42,stratify=labels)"
      ]
    },
    {
      "cell_type": "markdown",
      "metadata": {
        "id": "Ur5ThCPoQ2tz"
      },
      "source": [
        "SVC"
      ]
    },
    {
      "cell_type": "code",
      "execution_count": null,
      "metadata": {
        "colab": {
          "base_uri": "https://localhost:8080/"
        },
        "id": "-ngEa54YPTqG",
        "outputId": "add90fd8-87ea-479b-80b4-231e22e5b157"
      },
      "outputs": [
        {
          "name": "stdout",
          "output_type": "stream",
          "text": [
            "Matriz de confusión en conjunto de entrenamiento con svc:\n",
            "+---------------+---------------------+---------------------+\n",
            "|               | Predicción Negativa | Predicción Positiva |\n",
            "+---------------+---------------------+---------------------+\n",
            "| Real Negativa |        13210        |          0          |\n",
            "| Real Positiva |         860         |          0          |\n",
            "+---------------+---------------------+---------------------+\n",
            "\n",
            "Informe de clasificación en conjunto de entrenamiento con svc:\n",
            "              precision    recall  f1-score   support\n",
            "\n",
            "           0       0.94      1.00      0.97     13210\n",
            "           1       1.00      0.00      0.00       860\n",
            "\n",
            "    accuracy                           0.94     14070\n",
            "   macro avg       0.97      0.50      0.48     14070\n",
            "weighted avg       0.94      0.94      0.91     14070\n",
            "\n",
            "\n",
            "F1-Score en conjunto de entrenamiento con svc: 0.0\n"
          ]
        }
      ],
      "source": [
        "from sklearn.metrics import confusion_matrix, classification_report, f1_score\n",
        "import prettytable as pt\n",
        "import warnings\n",
        "\n",
        "warnings.filterwarnings(\"ignore\")\n",
        "\n",
        "# Fit\n",
        "pip_svc.fit(X_train, y_train)\n",
        "\n",
        "# Predict\n",
        "y_pred = pip_svc.predict(X_train)\n",
        "\n",
        "# Matriz de confusión\n",
        "conf_matrix = confusion_matrix(y_train, y_pred)\n",
        "\n",
        "# Informe de clasificación\n",
        "classification_rep = classification_report(y_train, y_pred, zero_division=1)\n",
        "\n",
        "# F1-Score\n",
        "f1 = f1_score(y_train, y_pred).round(2)\n",
        "\n",
        "# Crear una tabla para la matriz de confusión\n",
        "table = pt.PrettyTable()\n",
        "table.field_names = [\"\", \"Predicción Negativa\", \"Predicción Positiva\"]\n",
        "table.add_row([\"Real Negativa\", conf_matrix[0, 0], conf_matrix[0, 1]])\n",
        "table.add_row([\"Real Positiva\", conf_matrix[1, 0], conf_matrix[1, 1]])\n",
        "\n",
        "# Imprimir resultados\n",
        "print(\"Matriz de confusión en conjunto de entrenamiento con svc:\")\n",
        "print(table)\n",
        "\n",
        "print(\"\\nInforme de clasificación en conjunto de entrenamiento con svc:\")\n",
        "print(classification_rep)\n",
        "\n",
        "print(f\"\\nF1-Score en conjunto de entrenamiento con svc: {f1}\")\n"
      ]
    },
    {
      "cell_type": "code",
      "execution_count": null,
      "metadata": {
        "colab": {
          "base_uri": "https://localhost:8080/"
        },
        "id": "XARetMfERUHO",
        "outputId": "b703379e-03dc-4e08-d1eb-1864ff627553"
      },
      "outputs": [
        {
          "name": "stdout",
          "output_type": "stream",
          "text": [
            "Matriz de confusión en conjunto de prueba con svc:\n",
            "+---------------+---------------------+---------------------+\n",
            "|               | Predicción Negativa | Predicción Positiva |\n",
            "+---------------+---------------------+---------------------+\n",
            "| Real Negativa |         3303        |          0          |\n",
            "| Real Positiva |         215         |          0          |\n",
            "+---------------+---------------------+---------------------+\n",
            "\n",
            "Informe de clasificación en conjunto de prueba con svc:\n",
            "              precision    recall  f1-score   support\n",
            "\n",
            "           0       0.94      1.00      0.97      3303\n",
            "           1       1.00      0.00      0.00       215\n",
            "\n",
            "    accuracy                           0.94      3518\n",
            "   macro avg       0.97      0.50      0.48      3518\n",
            "weighted avg       0.94      0.94      0.91      3518\n",
            "\n",
            "\n",
            "F1-Score en conjunto de prueba con svc: 0.0\n"
          ]
        }
      ],
      "source": [
        "# Suprimir advertencias de scikit-learn\n",
        "warnings.filterwarnings(\"ignore\")\n",
        "\n",
        "# Predict en conjunto de prueba\n",
        "y_pred_test = pip_svc.predict(X_test)\n",
        "\n",
        "# Matriz de confusión\n",
        "conf_matrix_test = confusion_matrix(y_test, y_pred_test)\n",
        "\n",
        "# Informe de clasificación\n",
        "classification_rep_test = classification_report(y_test, y_pred_test, zero_division=1)\n",
        "\n",
        "# F1-Score\n",
        "f1_test = f1_score(y_test, y_pred_test).round(2)\n",
        "\n",
        "# Crear una tabla para la matriz de confusión\n",
        "table_test = pt.PrettyTable()\n",
        "table_test.field_names = [\"\", \"Predicción Negativa\", \"Predicción Positiva\"]\n",
        "table_test.add_row([\"Real Negativa\", conf_matrix_test[0, 0], conf_matrix_test[0, 1]])\n",
        "table_test.add_row([\"Real Positiva\", conf_matrix_test[1, 0], conf_matrix_test[1, 1]])\n",
        "\n",
        "# Imprimir resultados en conjunto de prueba\n",
        "print(\"Matriz de confusión en conjunto de prueba con svc:\")\n",
        "print(table_test)\n",
        "\n",
        "print(\"\\nInforme de clasificación en conjunto de prueba con svc:\")\n",
        "print(classification_rep_test)\n",
        "\n",
        "print(f\"\\nF1-Score en conjunto de prueba con svc: {f1_test}\")\n"
      ]
    },
    {
      "cell_type": "markdown",
      "metadata": {
        "id": "7Qrp3cytQ56I"
      },
      "source": [
        "KNN"
      ]
    },
    {
      "cell_type": "code",
      "execution_count": null,
      "metadata": {
        "colab": {
          "base_uri": "https://localhost:8080/"
        },
        "id": "IvQF7epVVTyY",
        "outputId": "15c08973-8fa2-4bb6-af0e-0333ea177c98"
      },
      "outputs": [
        {
          "name": "stdout",
          "output_type": "stream",
          "text": [
            "Matriz de confusión en conjunto de entrenamiento con knn:\n",
            "+---------------+---------------------+---------------------+\n",
            "|               | Predicción Negativa | Predicción Positiva |\n",
            "+---------------+---------------------+---------------------+\n",
            "| Real Negativa |        13170        |          40         |\n",
            "| Real Positiva |         740         |         120         |\n",
            "+---------------+---------------------+---------------------+\n",
            "\n",
            "Informe de clasificación en conjunto de entrenamiento con knn:\n",
            "              precision    recall  f1-score   support\n",
            "\n",
            "           0       0.95      1.00      0.97     13210\n",
            "           1       0.75      0.14      0.24       860\n",
            "\n",
            "    accuracy                           0.94     14070\n",
            "   macro avg       0.85      0.57      0.60     14070\n",
            "weighted avg       0.93      0.94      0.93     14070\n",
            "\n",
            "\n",
            "F1-Score en conjunto de entrenamiento con knn: 0.24\n"
          ]
        }
      ],
      "source": [
        "warnings.filterwarnings(\"ignore\")\n",
        "\n",
        "# Fit\n",
        "pip_knn.fit(X_train, y_train)\n",
        "\n",
        "# Predict\n",
        "y_pred = pip_knn.predict(X_train)\n",
        "\n",
        "# Matriz de confusión\n",
        "conf_matrix = confusion_matrix(y_train, y_pred)\n",
        "\n",
        "# Informe de clasificación\n",
        "classification_rep = classification_report(y_train, y_pred, zero_division=1)\n",
        "\n",
        "# F1-Score\n",
        "f1 = f1_score(y_train, y_pred).round(2)\n",
        "\n",
        "# Crear una tabla para la matriz de confusión\n",
        "table = pt.PrettyTable()\n",
        "table.field_names = [\"\", \"Predicción Negativa\", \"Predicción Positiva\"]\n",
        "table.add_row([\"Real Negativa\", conf_matrix[0, 0], conf_matrix[0, 1]])\n",
        "table.add_row([\"Real Positiva\", conf_matrix[1, 0], conf_matrix[1, 1]])\n",
        "\n",
        "# Imprimir resultados\n",
        "print(\"Matriz de confusión en conjunto de entrenamiento con knn:\")\n",
        "print(table)\n",
        "\n",
        "print(\"\\nInforme de clasificación en conjunto de entrenamiento con knn:\")\n",
        "print(classification_rep)\n",
        "\n",
        "print(f\"\\nF1-Score en conjunto de entrenamiento con knn: {f1}\")\n"
      ]
    },
    {
      "cell_type": "code",
      "execution_count": null,
      "metadata": {
        "colab": {
          "base_uri": "https://localhost:8080/"
        },
        "id": "-QFBGMDDVu-J",
        "outputId": "7ace2eed-8d87-428e-a689-da9f375567e7"
      },
      "outputs": [
        {
          "name": "stdout",
          "output_type": "stream",
          "text": [
            "Matriz de confusión en conjunto de prueba con knn:\n",
            "+---------------+---------------------+---------------------+\n",
            "|               | Predicción Negativa | Predicción Positiva |\n",
            "+---------------+---------------------+---------------------+\n",
            "| Real Negativa |         3283        |          20         |\n",
            "| Real Positiva |         202         |          13         |\n",
            "+---------------+---------------------+---------------------+\n",
            "\n",
            "Informe de clasificación en conjunto de prueba con knn:\n",
            "              precision    recall  f1-score   support\n",
            "\n",
            "           0       0.94      0.99      0.97      3303\n",
            "           1       0.39      0.06      0.10       215\n",
            "\n",
            "    accuracy                           0.94      3518\n",
            "   macro avg       0.67      0.53      0.54      3518\n",
            "weighted avg       0.91      0.94      0.91      3518\n",
            "\n",
            "\n",
            "F1-Score en conjunto de prueba con knn: 0.1\n"
          ]
        }
      ],
      "source": [
        "# Suprimir advertencias de scikit-learn\n",
        "warnings.filterwarnings(\"ignore\")\n",
        "\n",
        "# Predict en conjunto de prueba\n",
        "y_pred_test = pip_knn.predict(X_test)\n",
        "\n",
        "# Matriz de confusión\n",
        "conf_matrix_test = confusion_matrix(y_test, y_pred_test)\n",
        "\n",
        "# Informe de clasificación\n",
        "classification_rep_test = classification_report(y_test, y_pred_test, zero_division=1)\n",
        "\n",
        "# F1-Score\n",
        "f1_test = f1_score(y_test, y_pred_test).round(2)\n",
        "\n",
        "# Crear una tabla para la matriz de confusión\n",
        "table_test = pt.PrettyTable()\n",
        "table_test.field_names = [\"\", \"Predicción Negativa\", \"Predicción Positiva\"]\n",
        "table_test.add_row([\"Real Negativa\", conf_matrix_test[0, 0], conf_matrix_test[0, 1]])\n",
        "table_test.add_row([\"Real Positiva\", conf_matrix_test[1, 0], conf_matrix_test[1, 1]])\n",
        "\n",
        "# Imprimir resultados en conjunto de prueba\n",
        "print(\"Matriz de confusión en conjunto de prueba con knn:\")\n",
        "print(table_test)\n",
        "\n",
        "print(\"\\nInforme de clasificación en conjunto de prueba con knn:\")\n",
        "print(classification_rep_test)\n",
        "\n",
        "print(f\"\\nF1-Score en conjunto de prueba con knn: {f1_test}\")\n"
      ]
    },
    {
      "cell_type": "markdown",
      "metadata": {
        "id": "vvvbUiZDPSQf"
      },
      "source": [
        "rf"
      ]
    },
    {
      "cell_type": "code",
      "execution_count": null,
      "metadata": {
        "colab": {
          "base_uri": "https://localhost:8080/"
        },
        "id": "xoXAmub-V7XI",
        "outputId": "6fffa29f-fad5-4027-deec-70512c103ec0"
      },
      "outputs": [
        {
          "name": "stdout",
          "output_type": "stream",
          "text": [
            "Matriz de confusión en conjunto de entrenamiento con rf:\n",
            "+---------------+---------------------+---------------------+\n",
            "|               | Predicción Negativa | Predicción Positiva |\n",
            "+---------------+---------------------+---------------------+\n",
            "| Real Negativa |        13210        |          0          |\n",
            "| Real Positiva |          1          |         859         |\n",
            "+---------------+---------------------+---------------------+\n",
            "\n",
            "Informe de clasificación en conjunto de entrenamiento con rf:\n",
            "              precision    recall  f1-score   support\n",
            "\n",
            "           0       1.00      1.00      1.00     13210\n",
            "           1       1.00      1.00      1.00       860\n",
            "\n",
            "    accuracy                           1.00     14070\n",
            "   macro avg       1.00      1.00      1.00     14070\n",
            "weighted avg       1.00      1.00      1.00     14070\n",
            "\n",
            "\n",
            "F1-Score en conjunto de entrenamiento con rf: 1.0\n"
          ]
        }
      ],
      "source": [
        "warnings.filterwarnings(\"ignore\")\n",
        "\n",
        "# Fit\n",
        "pip_rf.fit(X_train, y_train)\n",
        "\n",
        "# Predict\n",
        "y_pred = pip_rf.predict(X_train)\n",
        "\n",
        "# Matriz de confusión\n",
        "conf_matrix = confusion_matrix(y_train, y_pred)\n",
        "\n",
        "# Informe de clasificación\n",
        "classification_rep = classification_report(y_train, y_pred, zero_division=1)\n",
        "\n",
        "# F1-Score\n",
        "f1 = f1_score(y_train, y_pred).round(2)\n",
        "\n",
        "# Crear una tabla para la matriz de confusión\n",
        "table = pt.PrettyTable()\n",
        "table.field_names = [\"\", \"Predicción Negativa\", \"Predicción Positiva\"]\n",
        "table.add_row([\"Real Negativa\", conf_matrix[0, 0], conf_matrix[0, 1]])\n",
        "table.add_row([\"Real Positiva\", conf_matrix[1, 0], conf_matrix[1, 1]])\n",
        "\n",
        "# Imprimir resultados\n",
        "print(\"Matriz de confusión en conjunto de entrenamiento con rf:\")\n",
        "print(table)\n",
        "\n",
        "print(\"\\nInforme de clasificación en conjunto de entrenamiento con rf:\")\n",
        "print(classification_rep)\n",
        "\n",
        "print(f\"\\nF1-Score en conjunto de entrenamiento con rf: {f1}\")\n"
      ]
    },
    {
      "cell_type": "code",
      "execution_count": null,
      "metadata": {
        "colab": {
          "base_uri": "https://localhost:8080/"
        },
        "id": "KIdvKO-4V-z4",
        "outputId": "2f897cf3-2717-4fb7-9477-720de36ea87f"
      },
      "outputs": [
        {
          "name": "stdout",
          "output_type": "stream",
          "text": [
            "Matriz de confusión en conjunto de prueba con rf:\n",
            "+---------------+---------------------+---------------------+\n",
            "|               | Predicción Negativa | Predicción Positiva |\n",
            "+---------------+---------------------+---------------------+\n",
            "| Real Negativa |         3295        |          8          |\n",
            "| Real Positiva |         194         |          21         |\n",
            "+---------------+---------------------+---------------------+\n",
            "\n",
            "Informe de clasificación en conjunto de prueba con rf:\n",
            "              precision    recall  f1-score   support\n",
            "\n",
            "           0       0.94      1.00      0.97      3303\n",
            "           1       0.72      0.10      0.17       215\n",
            "\n",
            "    accuracy                           0.94      3518\n",
            "   macro avg       0.83      0.55      0.57      3518\n",
            "weighted avg       0.93      0.94      0.92      3518\n",
            "\n",
            "\n",
            "F1-Score en conjunto de prueba con rf: 0.17\n"
          ]
        }
      ],
      "source": [
        "# Suprimir advertencias de scikit-learn\n",
        "warnings.filterwarnings(\"ignore\")\n",
        "\n",
        "# Predict en conjunto de prueba\n",
        "y_pred_test = pip_rf.predict(X_test)\n",
        "\n",
        "# Matriz de confusión\n",
        "conf_matrix_test = confusion_matrix(y_test, y_pred_test)\n",
        "\n",
        "# Informe de clasificación\n",
        "classification_rep_test = classification_report(y_test, y_pred_test, zero_division=1)\n",
        "\n",
        "# F1-Score\n",
        "f1_test = f1_score(y_test, y_pred_test).round(2)\n",
        "\n",
        "# Crear una tabla para la matriz de confusión\n",
        "table_test = pt.PrettyTable()\n",
        "table_test.field_names = [\"\", \"Predicción Negativa\", \"Predicción Positiva\"]\n",
        "table_test.add_row([\"Real Negativa\", conf_matrix_test[0, 0], conf_matrix_test[0, 1]])\n",
        "table_test.add_row([\"Real Positiva\", conf_matrix_test[1, 0], conf_matrix_test[1, 1]])\n",
        "\n",
        "# Imprimir resultados en conjunto de prueba\n",
        "print(\"Matriz de confusión en conjunto de prueba con rf:\")\n",
        "print(table_test)\n",
        "\n",
        "print(\"\\nInforme de clasificación en conjunto de prueba con rf:\")\n",
        "print(classification_rep_test)\n",
        "\n",
        "print(f\"\\nF1-Score en conjunto de prueba con rf: {f1_test}\")\n"
      ]
    },
    {
      "cell_type": "markdown",
      "metadata": {
        "cell_id": "2e9c35fbe33d4a38bfdf6af6de3022f3",
        "deepnote_cell_height": 106.33332824707031,
        "deepnote_cell_type": "markdown",
        "id": "QgSeo0aIx9ow"
      },
      "source": [
        "**Respuesta**:\n",
        "AL entrenar y evaluar los 3 modelos, se ve el resultado de las distintas metricas. En donde:\n",
        "\n",
        "Los valores de accuracy miden la proporción de ejemplos clasificados correctamente (tanto la clase 0 como la clase 1) con respecto al total de ejemplos.\n",
        "\n",
        "$$\n",
        "\\text{Accuracy} = \\frac{TP + TN}{TP + FN + TN + FP}\n",
        "$$\n",
        "\n",
        "La precisión mide la proporción de ejemplos clasificados como positivos que son verdaderos positivos en comparación con todos los ejemplos clasificados como positivos.\n",
        "$$\n",
        "\\text{Precision} = \\frac{TP}{TP + FP}\n",
        "$$\n",
        "\n",
        "El recall mide la proporción de ejemplos positivos que fueron clasificados correctamente como positivos en comparación con todos los ejemplos reales positivos.\n",
        "$$\n",
        "\\text{Recall} = \\frac{TP}{TP + FN}\n",
        "$$\n",
        "\n",
        "El F1-Score es una métrica que combina tanto la precisión como el recall. El F1-Score es útil cuando se desea tener una única métrica que combine tanto la capacidad de un modelo para clasificar correctamente ejemplos positivos (precision) como su capacidad para capturar todos los ejemplos positivos (recall).\n",
        "\n",
        "$$\n",
        "\\text{F1-Score} = 2 \\times \\frac{\\text{Precision} \\times \\text{Recall}}{\\text{Precision} + \\text{Recall}}\n",
        "$$\n",
        "\n",
        "Donde:\n",
        "- \\(TP\\) es el número de verdaderos positivos.\n",
        "- \\(TN\\) es el número de verdaderos negativos.\n",
        "- \\(FP\\) es el número de falsos positivos.\n",
        "- \\(FN\\) es el número de falsos negativos.\n",
        "\n",
        "Luego, para comparar los tres modelos anteriores en términos de su capacidad para clasificar la clase 1 (que sea selecionado), podemos observar el valor del puntaje F1 para la clase 1 en cada modelo. Cuanto mayor sea el puntaje F1, mejor será el rendimiento del modelo para la clase 1. En donde los valores:\n",
        "\n",
        "1. Modelo SVC:\n",
        "   - Puntaje F1 para la clase 1: 0.00\n",
        "\n",
        "2. Modelo K-Nearest Neighbors (KNN):\n",
        "   - Puntaje F1 para la clase 1: 0.10\n",
        "\n",
        "3. Modelo Random Forest (RF):\n",
        "   - Puntaje F1 para la clase 1: 0.17\n",
        "\n",
        "Podemos decir que el Modelo Random Forest (RF) tiene el mejor rendimiento en la clasificación de la clase 1, seguido por el Modelo K-Nearest Neighbors (KNN). El Modelo de Máquinas de Soporte Vectorial (SVC) tiene un puntaje F1 muy bajo para la clase 1, lo que indica que no es efectivo en la clasificación\n",
        "\n",
        "Aun asi, los tres modelos tienen desafíos en la clasificación de la clase 1. Aunque el modelo SVC tiene una precisión perfecta para la clase 1, su recall es muy bajo, lo que indica que no puede identificar la mayoría de los casos verdaderos positivos. El modelo Random Forest tiene un rendimiento relativamente mejor en términos de precisión y recall en comparación con los otros dos modelos. Sin embargo, en general, el rendimiento de todos los modelos es limitado en la clasificación de la clase 1.  \n",
        "\n",
        "Finalmente, los resultados actuales pueden mejorarse, teniendo en cuenta que los modelos fueron entrenados con parámetros por defecto, sin utilizar validación cruzada ni una métrica de evaluación específica para optimizar el rendimiento. Además, se utilizó un conjunto de datos de entrenamiento desbalanceado, lo que influyó en que el modelo se centrara en clasificar con mayor precisión los ejemplos de la clase 0, es decir, aquellos que no fueron seleccionados."
      ]
    },
    {
      "cell_type": "markdown",
      "metadata": {
        "cell_id": "5aa0cc14dba04749ad3bc07a92d351d2",
        "deepnote_cell_type": "markdown",
        "id": "ix97Ho4uOARH"
      },
      "source": [
        "## 1.2 Predicción de posiciones de jugadores [2 puntos]\n",
        "\n",
        "<p align=\"center\">\n",
        "  <img src=\"https://pbs.twimg.com/media/E1rfA1aWEAYU6Ny.jpg\" width=\"500\">\n",
        "</p>"
      ]
    },
    {
      "cell_type": "markdown",
      "metadata": {
        "cell_id": "6cd2eee12b6147bc8eba66af43a1f1f7",
        "deepnote_cell_type": "markdown",
        "id": "oHAwZfV8hMsk"
      },
      "source": [
        "En una nueva jornada de desmesuradas transacciones deportivas, Renacín escuchó a sus colegas discutir acerca de que el precio de cada jugador depende en gran medida de la posición en la cancha en la que juega. Y además, que hay bastantes jugadores nuevos que no tienen muy claro en que posición verdaderamente brillarían, por lo que actualmente puede que actualmente estén jugando en posiciones sub-optimas.\n",
        "\n",
        "Viendo que los resultados del primer análisis no son tan esperanzadores, el corporeo los comanda a cambiar su tarea: ahora, les solicita que construyan un clasificador enfocado en predecir la mejor posición de los jugadores en la cancha según sus características.\n",
        "\n",
        "Para lograr esto, primero, les pide que etiqueten de la siguiente manera los valores que aparecen en el atributo ```Club_Position```, pidiendo que agrupen los valores en los siguientes grupos:\n",
        "\n",
        "**Nota**:  Renacín les recalca que **no deben utilizar los valores ```Sub``` y ```Res``` de esta columna**.\n",
        "\n",
        "```python\n",
        "ataque = ['ST', 'CF']\n",
        "central_ataque = ['RW', 'CAM', 'LW']\n",
        "central = ['RM', 'CM', 'LM']\n",
        "central_defensa = ['RWB', 'CDM', 'LWB']\n",
        "defensa = ['RB', 'CB', 'LB']\n",
        "arquero = ['GK']\n",
        "```\n",
        "\n",
        "Cabe señalar que al igual como lo realizado con la clasificación binaria, deberá justificar en base a la [guía](https://scikit-learn.org/stable/tutorial/machine_learning_map/index.html) la elección del clasificador y se deben comentar los resultados obtenidos en la clasificación.\n",
        "\n",
        "**Nota:** Clasifique solamente con las clases señaladas, si observa mas clases eliminelas de la clasficación.\n",
        "\n",
        "**To-Do**:\n",
        "\n",
        "- [ ] Aplique las etiquetas descritas anteriormente en cada uno de los valores señalados en esta sección.\n",
        "- [ ] Cuente cuantos por clase quedan.\n",
        "- [ ] Entrene el nuevo pipeline y ejecute una evaluación de este.  \n",
        "- [ ] Comente los resultados obtenidos."
      ]
    },
    {
      "cell_type": "markdown",
      "metadata": {
        "cell_id": "71cd4b2ee5a74b96aa2dd4e1da166655",
        "deepnote_cell_type": "markdown",
        "id": "bGQluPfw_Fdf",
        "tags": []
      },
      "source": [
        "**Respuesta:**"
      ]
    },
    {
      "cell_type": "code",
      "execution_count": null,
      "metadata": {
        "cell_id": "e54c0311c11e47cf917f4c7ec61370bc",
        "deepnote_cell_type": "code",
        "id": "5DSlrSa6_Fdg",
        "tags": []
      },
      "outputs": [],
      "source": [
        "#clases\n",
        "position_encoder = {  'ST':'ataque',\n",
        "           'CF':'ataque',\n",
        "\n",
        "           'LF':'ataque',\n",
        "           'RF':'ataque',\n",
        "           'LS':'ataque',\n",
        "           'RS':'ataque',\n",
        "\n",
        "           'RW':'central_ataque',\n",
        "           'CAM':'central_ataque',\n",
        "           'LW':'central_ataque',\n",
        "\n",
        "           'RAM':'central_ataque',\n",
        "           'LAM':'central_ataque',\n",
        "\n",
        "           'RM':'central',\n",
        "           'CM':'central',\n",
        "           'LM':'central',\n",
        "\n",
        "           'LCM':'central',\n",
        "           'RCM':'central',\n",
        "\n",
        "           'RWB':'central_defensa',\n",
        "           'CDM':'central_defensa',\n",
        "           'LWB':'central_defensa',\n",
        "\n",
        "           'LDM':'central_defensa',\n",
        "           'RDM':'central_defensa',\n",
        "\n",
        "           'RB':'defensa',\n",
        "           'CB':'defensa',\n",
        "           'LB':'defensa',\n",
        "\n",
        "           'RCB':'defensa',\n",
        "           'LCB':'defensa',\n",
        "\n",
        "           'GK':'arquero'\n",
        "}"
      ]
    },
    {
      "cell_type": "code",
      "execution_count": null,
      "metadata": {
        "colab": {
          "base_uri": "https://localhost:8080/"
        },
        "id": "gzLzAmIxhpMo",
        "outputId": "0671deb4-175d-4640-82b9-defe9c95edae"
      },
      "outputs": [
        {
          "data": {
            "text/plain": [
              "defensa            2444\n",
              "central            1614\n",
              "ataque              865\n",
              "central_defensa     741\n",
              "central_ataque      653\n",
              "arquero             632\n",
              "Name: Club_Position, dtype: int64"
            ]
          },
          "execution_count": 106,
          "metadata": {},
          "output_type": "execute_result"
        }
      ],
      "source": [
        "df_players = df_players.replace({'Club_Position': position_encoder})\n",
        "df_filtered = df_players[(df_players[\"Club_Position\"] != \"Sub\") & (df_players[\"Club_Position\"] != \"Res\")]\n",
        "df_filtered['Club_Position'].value_counts()\n"
      ]
    },
    {
      "cell_type": "markdown",
      "metadata": {
        "id": "FN0pqefEJpTw"
      },
      "source": [
        "Siguiendo el gráfico proporcionado para la selección de modelos, se observa que hay menos de 100,000 ejemplos disponibles. En este contexto, se opta por utilizar un modelo de Linear SVC debido a la naturaleza de los datos. Además, como los datos no son de tipo textual, se selecciona K Nearest Neighbor. Por último, se elige implementar un ensamblado de árboles, específicamente un Random Forest, como estrategia de modelado."
      ]
    },
    {
      "cell_type": "code",
      "execution_count": null,
      "metadata": {
        "id": "moOYDf_Hib9f"
      },
      "outputs": [],
      "source": [
        "df_filtered.dropna(subset=[\"Club_Position\"], inplace=True)\n",
        "labels = df_filtered.loc[:, \"Club_Position\"]\n",
        "features = df_filtered.drop(columns=texto)\n",
        "#80% entrenamiento y 20% test\n",
        "X_train, X_test, y_train, y_test = train_test_split(features,labels,test_size=0.2,random_state=42,stratify=labels)\n"
      ]
    },
    {
      "cell_type": "code",
      "execution_count": null,
      "metadata": {
        "colab": {
          "base_uri": "https://localhost:8080/"
        },
        "id": "dxu8t8oHrt5T",
        "outputId": "fa282440-a62a-4667-fac1-8693e0f1ce7c"
      },
      "outputs": [
        {
          "name": "stdout",
          "output_type": "stream",
          "text": [
            "Matriz de confusión en conjunto de entrenamiento con svc:\n",
            "+-----------------+---------+--------+---------+----------------+-----------------+---------+\n",
            "|                 | arquero | ataque | central | central_ataque | central_defensa | defensa |\n",
            "+-----------------+---------+--------+---------+----------------+-----------------+---------+\n",
            "|     arquero     |   506   |   0    |    0    |       0        |        0        |    0    |\n",
            "|      ataque     |    0    |  583   |    77   |       32       |        0        |    0    |\n",
            "|     central     |    0    |   74   |   861   |      126       |       125       |   105   |\n",
            "|  central_ataque |    0    |   62   |   291   |      154       |        10       |    5    |\n",
            "| central_defensa |    0    |   0    |   197   |       5        |       241       |   150   |\n",
            "|     defensa     |    0    |   1    |    62   |       0        |        31       |   1861  |\n",
            "+-----------------+---------+--------+---------+----------------+-----------------+---------+\n",
            "\n",
            "Informe de clasificación en conjunto de entrenamiento con svc:\n",
            "                 precision    recall  f1-score   support\n",
            "\n",
            "        arquero       1.00      1.00      1.00       506\n",
            "         ataque       0.81      0.84      0.83       692\n",
            "        central       0.58      0.67      0.62      1291\n",
            " central_ataque       0.49      0.30      0.37       522\n",
            "central_defensa       0.59      0.41      0.48       593\n",
            "        defensa       0.88      0.95      0.91      1955\n",
            "\n",
            "       accuracy                           0.76      5559\n",
            "      macro avg       0.72      0.69      0.70      5559\n",
            "   weighted avg       0.74      0.76      0.74      5559\n",
            "\n"
          ]
        }
      ],
      "source": [
        "# Suprimir advertencias de scikit-learn\n",
        "warnings.filterwarnings(\"ignore\")\n",
        "\n",
        "pip_svc.fit(X_train, y_train)\n",
        "y_pred = pip_svc.predict(X_train)\n",
        "\n",
        "# Obtener los nombres reales de las clases\n",
        "class_names = pip_svc.classes_\n",
        "\n",
        "# Calcular la matriz de confusión\n",
        "conf_matrix = confusion_matrix(y_train, y_pred)\n",
        "\n",
        "# Generar un informe de clasificación\n",
        "classification_rep = classification_report(y_train, y_pred, target_names=class_names)\n",
        "\n",
        "# Crear una tabla para la matriz de confusión\n",
        "table = pt.PrettyTable()\n",
        "table.field_names = [\"\", *class_names]\n",
        "for i, row in enumerate(conf_matrix):\n",
        "    table.add_row([class_names[i], *row])\n",
        "\n",
        "# Imprimir resultados\n",
        "print(\"Matriz de confusión en conjunto de entrenamiento con svc:\")\n",
        "print(table)\n",
        "\n",
        "print(\"\\nInforme de clasificación en conjunto de entrenamiento con svc:\")\n",
        "print(classification_rep)"
      ]
    },
    {
      "cell_type": "code",
      "execution_count": null,
      "metadata": {
        "colab": {
          "base_uri": "https://localhost:8080/"
        },
        "id": "fmRICK1CMge6",
        "outputId": "20129070-5e55-4b8c-eadf-fe3fbcf11359"
      },
      "outputs": [
        {
          "name": "stdout",
          "output_type": "stream",
          "text": [
            "Matriz de confusión en conjunto de prueba con svc:\n",
            "+-----------------+---------+--------+---------+----------------+-----------------+---------+\n",
            "|                 | arquero | ataque | central | central_ataque | central_defensa | defensa |\n",
            "+-----------------+---------+--------+---------+----------------+-----------------+---------+\n",
            "|     arquero     |   126   |   0    |    0    |       0        |        0        |    0    |\n",
            "|      ataque     |    0    |  140   |    10   |       22       |        0        |    0    |\n",
            "|     central     |    0    |   24   |   211   |       77       |        55       |    10   |\n",
            "|  central_ataque |    0    |   8    |    38   |       30       |        0        |    0    |\n",
            "| central_defensa |    0    |   0    |    33   |       1        |        54       |    6    |\n",
            "|     defensa     |    0    |   1    |    31   |       1        |        39       |   473   |\n",
            "+-----------------+---------+--------+---------+----------------+-----------------+---------+\n",
            "\n",
            "Informe de clasificación en conjunto de prueba con svc:\n",
            "                 precision    recall  f1-score   support\n",
            "\n",
            "        arquero       1.00      1.00      1.00       126\n",
            "         ataque       0.81      0.81      0.81       172\n",
            "        central       0.65      0.56      0.60       377\n",
            " central_ataque       0.23      0.39      0.29        76\n",
            "central_defensa       0.36      0.57      0.45        94\n",
            "        defensa       0.97      0.87      0.91       545\n",
            "\n",
            "       accuracy                           0.74      1390\n",
            "      macro avg       0.67      0.70      0.68      1390\n",
            "   weighted avg       0.78      0.74      0.76      1390\n",
            "\n"
          ]
        }
      ],
      "source": [
        "# Predecir en el conjunto de prueba\n",
        "y_pred = pip_svc.predict(X_test)\n",
        "\n",
        "# Calcular la matriz de confusión en el conjunto de prueba\n",
        "conf_matrix_test = confusion_matrix(y_pred, y_test)\n",
        "\n",
        "# Generar un informe de clasificación en el conjunto de prueba\n",
        "classification_rep_test = classification_report(y_pred, y_test, target_names=class_names)\n",
        "\n",
        "# Crear una tabla para la matriz de confusión en el conjunto de prueba\n",
        "table_test = pt.PrettyTable()\n",
        "table_test.field_names = [\"\", *class_names]\n",
        "for i, row in enumerate(conf_matrix_test):\n",
        "    table_test.add_row([class_names[i], *row])\n",
        "\n",
        "# Imprimir resultados en el conjunto de prueba\n",
        "print(\"Matriz de confusión en conjunto de prueba con svc:\")\n",
        "print(table_test)\n",
        "\n",
        "print(\"\\nInforme de clasificación en conjunto de prueba con svc:\")\n",
        "print(classification_rep_test)\n"
      ]
    },
    {
      "cell_type": "code",
      "execution_count": null,
      "metadata": {
        "colab": {
          "base_uri": "https://localhost:8080/"
        },
        "id": "XvDd2KXTNJIF",
        "outputId": "869a5fe7-d333-483b-d549-705d1099433c"
      },
      "outputs": [
        {
          "name": "stdout",
          "output_type": "stream",
          "text": [
            "Matriz de confusión en conjunto de entrenamiento con knn:\n",
            "+-----------------+---------+--------+---------+----------------+-----------------+---------+\n",
            "|                 | arquero | ataque | central | central_ataque | central_defensa | defensa |\n",
            "+-----------------+---------+--------+---------+----------------+-----------------+---------+\n",
            "|     arquero     |   506   |   0    |    0    |       0        |        0        |    0    |\n",
            "|      ataque     |    0    |  590   |    76   |       21       |        2        |    3    |\n",
            "|     central     |    0    |   96   |   956   |       67       |        75       |    97   |\n",
            "|  central_ataque |    0    |   78   |   240   |      178       |        14       |    12   |\n",
            "| central_defensa |    0    |   3    |   178   |       8        |       279       |   125   |\n",
            "|     defensa     |    0    |   4    |   103   |       0        |        61       |   1787  |\n",
            "+-----------------+---------+--------+---------+----------------+-----------------+---------+\n",
            "\n",
            "Informe de clasificación en conjunto de entrenamiento con knn:\n",
            "                 precision    recall  f1-score   support\n",
            "\n",
            "        arquero       1.00      1.00      1.00       506\n",
            "         ataque       0.77      0.85      0.81       692\n",
            "        central       0.62      0.74      0.67      1291\n",
            " central_ataque       0.65      0.34      0.45       522\n",
            "central_defensa       0.65      0.47      0.54       593\n",
            "        defensa       0.88      0.91      0.90      1955\n",
            "\n",
            "       accuracy                           0.77      5559\n",
            "      macro avg       0.76      0.72      0.73      5559\n",
            "   weighted avg       0.77      0.77      0.76      5559\n",
            "\n"
          ]
        }
      ],
      "source": [
        "# Suprimir advertencias de scikit-learn\n",
        "warnings.filterwarnings(\"ignore\")\n",
        "\n",
        "pip_knn.fit(X_train, y_train)\n",
        "y_pred = pip_knn.predict(X_train)\n",
        "\n",
        "# Obtener los nombres reales de las clases\n",
        "class_names = pip_knn.classes_\n",
        "\n",
        "# Calcular la matriz de confusión\n",
        "conf_matrix = confusion_matrix(y_train, y_pred)\n",
        "\n",
        "# Generar un informe de clasificación\n",
        "classification_rep = classification_report(y_train, y_pred, target_names=class_names)\n",
        "\n",
        "# Crear una tabla para la matriz de confusión\n",
        "table = pt.PrettyTable()\n",
        "table.field_names = [\"\", *class_names]\n",
        "for i, row in enumerate(conf_matrix):\n",
        "    table.add_row([class_names[i], *row])\n",
        "\n",
        "# Imprimir resultados\n",
        "print(\"Matriz de confusión en conjunto de entrenamiento con knn:\")\n",
        "print(table)\n",
        "\n",
        "print(\"\\nInforme de clasificación en conjunto de entrenamiento con knn:\")\n",
        "print(classification_rep)"
      ]
    },
    {
      "cell_type": "code",
      "execution_count": null,
      "metadata": {
        "colab": {
          "base_uri": "https://localhost:8080/"
        },
        "id": "H4WhO89XNaq1",
        "outputId": "7ce825cb-2cbb-408f-a9a9-4d9d98964a95"
      },
      "outputs": [
        {
          "name": "stdout",
          "output_type": "stream",
          "text": [
            "Matriz de confusión en conjunto de prueba con knn:\n",
            "+-----------------+---------+--------+---------+----------------+-----------------+---------+\n",
            "|                 | arquero | ataque | central | central_ataque | central_defensa | defensa |\n",
            "+-----------------+---------+--------+---------+----------------+-----------------+---------+\n",
            "|     arquero     |   126   |   0    |    0    |       0        |        0        |    0    |\n",
            "|      ataque     |    0    |  128   |    27   |       36       |        3        |    1    |\n",
            "|     central     |    0    |   35   |   202   |       71       |        54       |    24   |\n",
            "|  central_ataque |    0    |   9    |    25   |       19       |        2        |    1    |\n",
            "| central_defensa |    0    |   0    |    34   |       2        |        52       |    25   |\n",
            "|     defensa     |    0    |   1    |    35   |       3        |        37       |   438   |\n",
            "+-----------------+---------+--------+---------+----------------+-----------------+---------+\n",
            "\n",
            "Informe de clasificación en conjunto de prueba con knn:\n",
            "                 precision    recall  f1-score   support\n",
            "\n",
            "        arquero       1.00      1.00      1.00       126\n",
            "         ataque       0.74      0.66      0.70       195\n",
            "        central       0.63      0.52      0.57       386\n",
            " central_ataque       0.15      0.34      0.20        56\n",
            "central_defensa       0.35      0.46      0.40       113\n",
            "        defensa       0.90      0.85      0.87       514\n",
            "\n",
            "       accuracy                           0.69      1390\n",
            "      macro avg       0.63      0.64      0.62      1390\n",
            "   weighted avg       0.73      0.69      0.71      1390\n",
            "\n"
          ]
        }
      ],
      "source": [
        "# Predecir en el conjunto de prueba\n",
        "y_pred = pip_knn.predict(X_test)\n",
        "\n",
        "# Calcular la matriz de confusión en el conjunto de prueba\n",
        "conf_matrix_test = confusion_matrix(y_pred, y_test)\n",
        "\n",
        "# Generar un informe de clasificación en el conjunto de prueba\n",
        "classification_rep_test = classification_report(y_pred, y_test, target_names=class_names)\n",
        "\n",
        "# Crear una tabla para la matriz de confusión en el conjunto de prueba\n",
        "table_test = pt.PrettyTable()\n",
        "table_test.field_names = [\"\", *class_names]\n",
        "for i, row in enumerate(conf_matrix_test):\n",
        "    table_test.add_row([class_names[i], *row])\n",
        "\n",
        "# Imprimir resultados en el conjunto de prueba\n",
        "print(\"Matriz de confusión en conjunto de prueba con knn:\")\n",
        "print(table_test)\n",
        "\n",
        "print(\"\\nInforme de clasificación en conjunto de prueba con knn:\")\n",
        "print(classification_rep_test)\n"
      ]
    },
    {
      "cell_type": "code",
      "execution_count": null,
      "metadata": {
        "colab": {
          "base_uri": "https://localhost:8080/"
        },
        "id": "nSCcFKB_NywJ",
        "outputId": "880028a0-3197-44ce-f9dc-ffd1b228986b"
      },
      "outputs": [
        {
          "name": "stdout",
          "output_type": "stream",
          "text": [
            "Matriz de confusión en conjunto de entrenamiento con rf:\n",
            "+-----------------+---------+--------+---------+----------------+-----------------+---------+\n",
            "|                 | arquero | ataque | central | central_ataque | central_defensa | defensa |\n",
            "+-----------------+---------+--------+---------+----------------+-----------------+---------+\n",
            "|     arquero     |   506   |   0    |    0    |       0        |        0        |    0    |\n",
            "|      ataque     |    0    |  692   |    0    |       0        |        0        |    0    |\n",
            "|     central     |    0    |   0    |   1291  |       0        |        0        |    0    |\n",
            "|  central_ataque |    0    |   0    |    0    |      522       |        0        |    0    |\n",
            "| central_defensa |    0    |   0    |    0    |       0        |       593       |    0    |\n",
            "|     defensa     |    0    |   0    |    0    |       0        |        0        |   1955  |\n",
            "+-----------------+---------+--------+---------+----------------+-----------------+---------+\n",
            "\n",
            "Informe de clasificación en conjunto de entrenamiento con rf:\n",
            "                 precision    recall  f1-score   support\n",
            "\n",
            "        arquero       1.00      1.00      1.00       506\n",
            "         ataque       1.00      1.00      1.00       692\n",
            "        central       1.00      1.00      1.00      1291\n",
            " central_ataque       1.00      1.00      1.00       522\n",
            "central_defensa       1.00      1.00      1.00       593\n",
            "        defensa       1.00      1.00      1.00      1955\n",
            "\n",
            "       accuracy                           1.00      5559\n",
            "      macro avg       1.00      1.00      1.00      5559\n",
            "   weighted avg       1.00      1.00      1.00      5559\n",
            "\n"
          ]
        }
      ],
      "source": [
        "# Suprimir advertencias de scikit-learn\n",
        "warnings.filterwarnings(\"ignore\")\n",
        "\n",
        "pip_rf.fit(X_train, y_train)\n",
        "y_pred = pip_rf.predict(X_train)\n",
        "\n",
        "# Obtener los nombres reales de las clases\n",
        "class_names = pip_rf.classes_\n",
        "\n",
        "# Calcular la matriz de confusión\n",
        "conf_matrix = confusion_matrix(y_train, y_pred)\n",
        "\n",
        "# Generar un informe de clasificación\n",
        "classification_rep = classification_report(y_train, y_pred, target_names=class_names)\n",
        "\n",
        "# Crear una tabla para la matriz de confusión\n",
        "table = pt.PrettyTable()\n",
        "table.field_names = [\"\", *class_names]\n",
        "for i, row in enumerate(conf_matrix):\n",
        "    table.add_row([class_names[i], *row])\n",
        "\n",
        "# Imprimir resultados\n",
        "print(\"Matriz de confusión en conjunto de entrenamiento con rf:\")\n",
        "print(table)\n",
        "\n",
        "print(\"\\nInforme de clasificación en conjunto de entrenamiento con rf:\")\n",
        "print(classification_rep)"
      ]
    },
    {
      "cell_type": "code",
      "execution_count": null,
      "metadata": {
        "colab": {
          "base_uri": "https://localhost:8080/"
        },
        "id": "vLHbPa_tN9_6",
        "outputId": "6a37a87a-00a4-4b06-b0d1-d32db0a90861"
      },
      "outputs": [
        {
          "name": "stdout",
          "output_type": "stream",
          "text": [
            "Matriz de confusión en conjunto de prueba con rf:\n",
            "+-----------------+---------+--------+---------+----------------+-----------------+---------+\n",
            "|                 | arquero | ataque | central | central_ataque | central_defensa | defensa |\n",
            "+-----------------+---------+--------+---------+----------------+-----------------+---------+\n",
            "|     arquero     |   126   |   0    |    0    |       0        |        0        |    0    |\n",
            "|      ataque     |    0    |  142   |    12   |       19       |        0        |    0    |\n",
            "|     central     |    0    |   25   |   228   |       84       |        60       |    10   |\n",
            "|  central_ataque |    0    |   6    |    18   |       25       |        0        |    0    |\n",
            "| central_defensa |    0    |   0    |    20   |       1        |        43       |    4    |\n",
            "|     defensa     |    0    |   0    |    45   |       2        |        45       |   475   |\n",
            "+-----------------+---------+--------+---------+----------------+-----------------+---------+\n",
            "\n",
            "Informe de clasificación en conjunto de prueba con rf:\n",
            "                 precision    recall  f1-score   support\n",
            "\n",
            "        arquero       1.00      1.00      1.00       126\n",
            "         ataque       0.82      0.82      0.82       173\n",
            "        central       0.71      0.56      0.62       407\n",
            " central_ataque       0.19      0.51      0.28        49\n",
            "central_defensa       0.29      0.63      0.40        68\n",
            "        defensa       0.97      0.84      0.90       567\n",
            "\n",
            "       accuracy                           0.75      1390\n",
            "      macro avg       0.66      0.73      0.67      1390\n",
            "   weighted avg       0.82      0.75      0.77      1390\n",
            "\n"
          ]
        }
      ],
      "source": [
        "# Predecir en el conjunto de prueba\n",
        "y_pred = pip_rf.predict(X_test)\n",
        "\n",
        "# Calcular la matriz de confusión en el conjunto de prueba\n",
        "conf_matrix_test = confusion_matrix(y_pred, y_test)\n",
        "\n",
        "# Generar un informe de clasificación en el conjunto de prueba\n",
        "classification_rep_test = classification_report(y_pred, y_test, target_names=class_names)\n",
        "\n",
        "# Crear una tabla para la matriz de confusión en el conjunto de prueba\n",
        "table_test = pt.PrettyTable()\n",
        "table_test.field_names = [\"\", *class_names]\n",
        "for i, row in enumerate(conf_matrix_test):\n",
        "    table_test.add_row([class_names[i], *row])\n",
        "\n",
        "# Imprimir resultados en el conjunto de prueba\n",
        "print(\"Matriz de confusión en conjunto de prueba con rf:\")\n",
        "print(table_test)\n",
        "\n",
        "print(\"\\nInforme de clasificación en conjunto de prueba con rf:\")\n",
        "print(classification_rep_test)\n"
      ]
    },
    {
      "cell_type": "markdown",
      "metadata": {
        "id": "_9MnNMmqOMeE"
      },
      "source": [
        "Al resumir las metricas obtenidas en los conjuntos de prueba:\n",
        "1.   SVC:\n",
        "  - Precisión promedio (macro avg): 0.67\n",
        "  - Recall promedio (macro avg): 0.70\n",
        "  - F1-score promedio (macro avg): 0.68\n",
        "  - Accuracy: 0.74\n",
        "\n",
        "2.   KNN:\n",
        "  - Precisión promedio (macro avg): 0.63\n",
        "  - Recall promedio (macro avg): 0.64\n",
        "  - F1-score promedio (macro avg): 0.62\n",
        "  - Accuracy: 0.69\n",
        "\n",
        "3.   Random Forest:\n",
        "  - Precisión promedio (macro avg): 0.66\n",
        "  - Recall promedio (macro avg): 0.73\n",
        "  - F1-score promedio (macro avg): 0.67\n",
        "  - Accuracy: 0.75\n",
        "\n",
        "\n",
        "En función de estos resultados, el modelo Random Forest parece ser el mejor entre los tres modelos evaluados, ya que tiene la precisión, el recall y el F1-score más altos en promedio (macro avg). Además, tiene la mayor precisión general (accuracy) y el F1-score ponderado (weighted avg). Por lo tanto, en términos de rendimiento global, el modelo Random Forest es el mejor en este escenario."
      ]
    },
    {
      "cell_type": "markdown",
      "metadata": {
        "cell_id": "f8008fda06be4d8ab7564d7362151a14",
        "deepnote_cell_type": "markdown",
        "id": "C-vkB4xoOGtM"
      },
      "source": [
        "## 1.3 Predicción de Sueldos [2 puntos]\n",
        "\n",
        "<p align=\"center\">\n",
        "  <img src=\"https://media.giphy.com/media/3oEjHWtHAFcOKS4iA0/giphy.gif\" width=\"460\">\n",
        "</p>"
      ]
    },
    {
      "cell_type": "markdown",
      "metadata": {
        "cell_id": "598c8a91d80c412091470f396af54b5f",
        "deepnote_cell_type": "markdown",
        "id": "n2d3OVcE_Fdh",
        "tags": []
      },
      "source": [
        "Queriendo ahondar aún más en el mercado del balompíe, Renacin, logra obtener (de una manera no muy formal) los sueldos de múltiples futbolistas y los guarda en el archivo ```sueldos.csv```. Con ellos les solicita que generen un regresor que les permita predecir el sueldo de los futbolistas en base a las características de los pichichis, esto, debido a su motivación por invertir y/o realizar especulación sobre los sueldos de jugadores.\n",
        "\n",
        "Renacin es claro señalando que deben seguir utilizando la [guía](https://scikit-learn.org/stable/tutorial/machine_learning_map/index.html) y comenten cada uno de los pasos realizados, para obtener su regresión lineal. Señalándoles que no aceptara un $R^2$ inferior a 0.35 para el modelo solicitado.\n",
        "\n",
        "Para esta parte usted tiene total libertad en la generación del regresor, la unica exigencia es que utilice un pipeline para generar la regresión y utilice la metrica $R^2$ para medir el rendimiento de esta.\n",
        "\n",
        "**To-Do**:\n",
        "\n",
        "- [ ] Explique en que consiste la métrica $R^2$\n",
        "- [ ] Generar un pipeline para la regresión.\n",
        "- [ ] Obtener un regresor con un $R^2$ superior a  $0.35$.\n",
        "- [ ] Comente sus resultados y si es posible mejorar los resultados obtenidos. ¿Se necesitarían más datos o otros tipos de características o una combinación de ambos?"
      ]
    },
    {
      "cell_type": "markdown",
      "metadata": {
        "cell_id": "5ce70aab37cb4924b1543eeab84e7de4",
        "deepnote_cell_type": "markdown",
        "id": "NZyDHl_B_Fdh",
        "tags": []
      },
      "source": [
        "**Respuesta**"
      ]
    },
    {
      "cell_type": "markdown",
      "metadata": {
        "id": "PySSGVJ0RM1Y"
      },
      "source": [
        "# Coeficiente de Determinación (R²)\n",
        "\n",
        "El coeficiente *R²* es una métrica estadística utilizada en el análisis de regresión para evaluar la bondad de ajuste de un modelo de regresión. Esta métrica proporciona información sobre cuánta variabilidad en la variable dependiente puede ser explicada por el modelo de regresión.\n",
        "\n",
        "La fórmula general para calcular *R²* es:\n",
        "\n",
        "$$ R² = 1 - \\frac{SSR}{SST} $$\n",
        "\n",
        "Donde:\n",
        "\n",
        "- *R²* es el coeficiente de determinación.\n",
        "- *SSR* (Sum of Squares Residual) es la suma de los cuadrados de las diferencias entre los valores observados y los valores predichos por el modelo.\n",
        "- *SST* (Sum of Squares Total) es la suma de los cuadrados de las diferencias entre los valores observados y la media de los valores observados.\n",
        "\n",
        " Un *R²* de 1 indica que el modelo explica toda la variabilidad, mientras que un *R²* de 0 significa que el modelo no explica nada de la variabilidad y se ajusta tan mal como simplemente usar la media de los valores observados para hacer predicciones.\n",
        "\n"
      ]
    },
    {
      "cell_type": "code",
      "execution_count": null,
      "metadata": {
        "colab": {
          "base_uri": "https://localhost:8080/",
          "height": 423
        },
        "id": "wXbeyeiBTefI",
        "outputId": "2a2a8062-6378-42d7-e0b3-28ea46be6dfa"
      },
      "outputs": [
        {
          "data": {
            "text/html": [
              "\n",
              "  <div id=\"df-d6f104d8-0298-413c-b892-0d4b4ae838a0\" class=\"colab-df-container\">\n",
              "    <div>\n",
              "<style scoped>\n",
              "    .dataframe tbody tr th:only-of-type {\n",
              "        vertical-align: middle;\n",
              "    }\n",
              "\n",
              "    .dataframe tbody tr th {\n",
              "        vertical-align: top;\n",
              "    }\n",
              "\n",
              "    .dataframe thead th {\n",
              "        text-align: right;\n",
              "    }\n",
              "</style>\n",
              "<table border=\"1\" class=\"dataframe\">\n",
              "  <thead>\n",
              "    <tr style=\"text-align: right;\">\n",
              "      <th></th>\n",
              "      <th>Unnamed: 0</th>\n",
              "      <th>Player</th>\n",
              "      <th>Weekly Salary</th>\n",
              "    </tr>\n",
              "  </thead>\n",
              "  <tbody>\n",
              "    <tr>\n",
              "      <th>0</th>\n",
              "      <td>1528</td>\n",
              "      <td>Lionel Messi</td>\n",
              "      <td>1538905.0</td>\n",
              "    </tr>\n",
              "    <tr>\n",
              "      <th>1</th>\n",
              "      <td>1006</td>\n",
              "      <td>Cristiano Ronaldo</td>\n",
              "      <td>1248536.0</td>\n",
              "    </tr>\n",
              "    <tr>\n",
              "      <th>2</th>\n",
              "      <td>1529</td>\n",
              "      <td>Antoine Griezmann</td>\n",
              "      <td>997032.0</td>\n",
              "    </tr>\n",
              "    <tr>\n",
              "      <th>3</th>\n",
              "      <td>2004</td>\n",
              "      <td>Neymar</td>\n",
              "      <td>797726.0</td>\n",
              "    </tr>\n",
              "    <tr>\n",
              "      <th>4</th>\n",
              "      <td>1530</td>\n",
              "      <td>Gareth Bale</td>\n",
              "      <td>607706.0</td>\n",
              "    </tr>\n",
              "    <tr>\n",
              "      <th>...</th>\n",
              "      <td>...</td>\n",
              "      <td>...</td>\n",
              "      <td>...</td>\n",
              "    </tr>\n",
              "    <tr>\n",
              "      <th>2529</th>\n",
              "      <td>1527</td>\n",
              "      <td>Simone Ghidotti</td>\n",
              "      <td>283.0</td>\n",
              "    </tr>\n",
              "    <tr>\n",
              "      <th>2530</th>\n",
              "      <td>2539</td>\n",
              "      <td>Valentin Gendrey</td>\n",
              "      <td>100.0</td>\n",
              "    </tr>\n",
              "    <tr>\n",
              "      <th>2531</th>\n",
              "      <td>1001</td>\n",
              "      <td>John Yeboah</td>\n",
              "      <td>70.0</td>\n",
              "    </tr>\n",
              "    <tr>\n",
              "      <th>2532</th>\n",
              "      <td>1000</td>\n",
              "      <td>Antonis Aidonis</td>\n",
              "      <td>70.0</td>\n",
              "    </tr>\n",
              "    <tr>\n",
              "      <th>2533</th>\n",
              "      <td>1002</td>\n",
              "      <td>Leon Dajaku</td>\n",
              "      <td>70.0</td>\n",
              "    </tr>\n",
              "  </tbody>\n",
              "</table>\n",
              "<p>2534 rows × 3 columns</p>\n",
              "</div>\n",
              "    <div class=\"colab-df-buttons\">\n",
              "\n",
              "  <div class=\"colab-df-container\">\n",
              "    <button class=\"colab-df-convert\" onclick=\"convertToInteractive('df-d6f104d8-0298-413c-b892-0d4b4ae838a0')\"\n",
              "            title=\"Convert this dataframe to an interactive table.\"\n",
              "            style=\"display:none;\">\n",
              "\n",
              "  <svg xmlns=\"http://www.w3.org/2000/svg\" height=\"24px\" viewBox=\"0 -960 960 960\">\n",
              "    <path d=\"M120-120v-720h720v720H120Zm60-500h600v-160H180v160Zm220 220h160v-160H400v160Zm0 220h160v-160H400v160ZM180-400h160v-160H180v160Zm440 0h160v-160H620v160ZM180-180h160v-160H180v160Zm440 0h160v-160H620v160Z\"/>\n",
              "  </svg>\n",
              "    </button>\n",
              "\n",
              "  <style>\n",
              "    .colab-df-container {\n",
              "      display:flex;\n",
              "      gap: 12px;\n",
              "    }\n",
              "\n",
              "    .colab-df-convert {\n",
              "      background-color: #E8F0FE;\n",
              "      border: none;\n",
              "      border-radius: 50%;\n",
              "      cursor: pointer;\n",
              "      display: none;\n",
              "      fill: #1967D2;\n",
              "      height: 32px;\n",
              "      padding: 0 0 0 0;\n",
              "      width: 32px;\n",
              "    }\n",
              "\n",
              "    .colab-df-convert:hover {\n",
              "      background-color: #E2EBFA;\n",
              "      box-shadow: 0px 1px 2px rgba(60, 64, 67, 0.3), 0px 1px 3px 1px rgba(60, 64, 67, 0.15);\n",
              "      fill: #174EA6;\n",
              "    }\n",
              "\n",
              "    .colab-df-buttons div {\n",
              "      margin-bottom: 4px;\n",
              "    }\n",
              "\n",
              "    [theme=dark] .colab-df-convert {\n",
              "      background-color: #3B4455;\n",
              "      fill: #D2E3FC;\n",
              "    }\n",
              "\n",
              "    [theme=dark] .colab-df-convert:hover {\n",
              "      background-color: #434B5C;\n",
              "      box-shadow: 0px 1px 3px 1px rgba(0, 0, 0, 0.15);\n",
              "      filter: drop-shadow(0px 1px 2px rgba(0, 0, 0, 0.3));\n",
              "      fill: #FFFFFF;\n",
              "    }\n",
              "  </style>\n",
              "\n",
              "    <script>\n",
              "      const buttonEl =\n",
              "        document.querySelector('#df-d6f104d8-0298-413c-b892-0d4b4ae838a0 button.colab-df-convert');\n",
              "      buttonEl.style.display =\n",
              "        google.colab.kernel.accessAllowed ? 'block' : 'none';\n",
              "\n",
              "      async function convertToInteractive(key) {\n",
              "        const element = document.querySelector('#df-d6f104d8-0298-413c-b892-0d4b4ae838a0');\n",
              "        const dataTable =\n",
              "          await google.colab.kernel.invokeFunction('convertToInteractive',\n",
              "                                                    [key], {});\n",
              "        if (!dataTable) return;\n",
              "\n",
              "        const docLinkHtml = 'Like what you see? Visit the ' +\n",
              "          '<a target=\"_blank\" href=https://colab.research.google.com/notebooks/data_table.ipynb>data table notebook</a>'\n",
              "          + ' to learn more about interactive tables.';\n",
              "        element.innerHTML = '';\n",
              "        dataTable['output_type'] = 'display_data';\n",
              "        await google.colab.output.renderOutput(dataTable, element);\n",
              "        const docLink = document.createElement('div');\n",
              "        docLink.innerHTML = docLinkHtml;\n",
              "        element.appendChild(docLink);\n",
              "      }\n",
              "    </script>\n",
              "  </div>\n",
              "\n",
              "\n",
              "<div id=\"df-b35a013b-cf09-48e4-9233-9d9be2723578\">\n",
              "  <button class=\"colab-df-quickchart\" onclick=\"quickchart('df-b35a013b-cf09-48e4-9233-9d9be2723578')\"\n",
              "            title=\"Suggest charts.\"\n",
              "            style=\"display:none;\">\n",
              "\n",
              "<svg xmlns=\"http://www.w3.org/2000/svg\" height=\"24px\"viewBox=\"0 0 24 24\"\n",
              "     width=\"24px\">\n",
              "    <g>\n",
              "        <path d=\"M19 3H5c-1.1 0-2 .9-2 2v14c0 1.1.9 2 2 2h14c1.1 0 2-.9 2-2V5c0-1.1-.9-2-2-2zM9 17H7v-7h2v7zm4 0h-2V7h2v10zm4 0h-2v-4h2v4z\"/>\n",
              "    </g>\n",
              "</svg>\n",
              "  </button>\n",
              "\n",
              "<style>\n",
              "  .colab-df-quickchart {\n",
              "      --bg-color: #E8F0FE;\n",
              "      --fill-color: #1967D2;\n",
              "      --hover-bg-color: #E2EBFA;\n",
              "      --hover-fill-color: #174EA6;\n",
              "      --disabled-fill-color: #AAA;\n",
              "      --disabled-bg-color: #DDD;\n",
              "  }\n",
              "\n",
              "  [theme=dark] .colab-df-quickchart {\n",
              "      --bg-color: #3B4455;\n",
              "      --fill-color: #D2E3FC;\n",
              "      --hover-bg-color: #434B5C;\n",
              "      --hover-fill-color: #FFFFFF;\n",
              "      --disabled-bg-color: #3B4455;\n",
              "      --disabled-fill-color: #666;\n",
              "  }\n",
              "\n",
              "  .colab-df-quickchart {\n",
              "    background-color: var(--bg-color);\n",
              "    border: none;\n",
              "    border-radius: 50%;\n",
              "    cursor: pointer;\n",
              "    display: none;\n",
              "    fill: var(--fill-color);\n",
              "    height: 32px;\n",
              "    padding: 0;\n",
              "    width: 32px;\n",
              "  }\n",
              "\n",
              "  .colab-df-quickchart:hover {\n",
              "    background-color: var(--hover-bg-color);\n",
              "    box-shadow: 0 1px 2px rgba(60, 64, 67, 0.3), 0 1px 3px 1px rgba(60, 64, 67, 0.15);\n",
              "    fill: var(--button-hover-fill-color);\n",
              "  }\n",
              "\n",
              "  .colab-df-quickchart-complete:disabled,\n",
              "  .colab-df-quickchart-complete:disabled:hover {\n",
              "    background-color: var(--disabled-bg-color);\n",
              "    fill: var(--disabled-fill-color);\n",
              "    box-shadow: none;\n",
              "  }\n",
              "\n",
              "  .colab-df-spinner {\n",
              "    border: 2px solid var(--fill-color);\n",
              "    border-color: transparent;\n",
              "    border-bottom-color: var(--fill-color);\n",
              "    animation:\n",
              "      spin 1s steps(1) infinite;\n",
              "  }\n",
              "\n",
              "  @keyframes spin {\n",
              "    0% {\n",
              "      border-color: transparent;\n",
              "      border-bottom-color: var(--fill-color);\n",
              "      border-left-color: var(--fill-color);\n",
              "    }\n",
              "    20% {\n",
              "      border-color: transparent;\n",
              "      border-left-color: var(--fill-color);\n",
              "      border-top-color: var(--fill-color);\n",
              "    }\n",
              "    30% {\n",
              "      border-color: transparent;\n",
              "      border-left-color: var(--fill-color);\n",
              "      border-top-color: var(--fill-color);\n",
              "      border-right-color: var(--fill-color);\n",
              "    }\n",
              "    40% {\n",
              "      border-color: transparent;\n",
              "      border-right-color: var(--fill-color);\n",
              "      border-top-color: var(--fill-color);\n",
              "    }\n",
              "    60% {\n",
              "      border-color: transparent;\n",
              "      border-right-color: var(--fill-color);\n",
              "    }\n",
              "    80% {\n",
              "      border-color: transparent;\n",
              "      border-right-color: var(--fill-color);\n",
              "      border-bottom-color: var(--fill-color);\n",
              "    }\n",
              "    90% {\n",
              "      border-color: transparent;\n",
              "      border-bottom-color: var(--fill-color);\n",
              "    }\n",
              "  }\n",
              "</style>\n",
              "\n",
              "  <script>\n",
              "    async function quickchart(key) {\n",
              "      const quickchartButtonEl =\n",
              "        document.querySelector('#' + key + ' button');\n",
              "      quickchartButtonEl.disabled = true;  // To prevent multiple clicks.\n",
              "      quickchartButtonEl.classList.add('colab-df-spinner');\n",
              "      try {\n",
              "        const charts = await google.colab.kernel.invokeFunction(\n",
              "            'suggestCharts', [key], {});\n",
              "      } catch (error) {\n",
              "        console.error('Error during call to suggestCharts:', error);\n",
              "      }\n",
              "      quickchartButtonEl.classList.remove('colab-df-spinner');\n",
              "      quickchartButtonEl.classList.add('colab-df-quickchart-complete');\n",
              "    }\n",
              "    (() => {\n",
              "      let quickchartButtonEl =\n",
              "        document.querySelector('#df-b35a013b-cf09-48e4-9233-9d9be2723578 button');\n",
              "      quickchartButtonEl.style.display =\n",
              "        google.colab.kernel.accessAllowed ? 'block' : 'none';\n",
              "    })();\n",
              "  </script>\n",
              "</div>\n",
              "    </div>\n",
              "  </div>\n"
            ],
            "text/plain": [
              "      Unnamed: 0             Player  Weekly Salary\n",
              "0           1528       Lionel Messi      1538905.0\n",
              "1           1006  Cristiano Ronaldo      1248536.0\n",
              "2           1529  Antoine Griezmann       997032.0\n",
              "3           2004             Neymar       797726.0\n",
              "4           1530        Gareth Bale       607706.0\n",
              "...          ...                ...            ...\n",
              "2529        1527    Simone Ghidotti          283.0\n",
              "2530        2539   Valentin Gendrey          100.0\n",
              "2531        1001        John Yeboah           70.0\n",
              "2532        1000    Antonis Aidonis           70.0\n",
              "2533        1002        Leon Dajaku           70.0\n",
              "\n",
              "[2534 rows x 3 columns]"
            ]
          },
          "execution_count": 115,
          "metadata": {},
          "output_type": "execute_result"
        }
      ],
      "source": [
        "df_salarios = pd.read_csv('/content/drive/MyDrive/lab8/salarios.csv')\n",
        "df_salarios"
      ]
    },
    {
      "cell_type": "markdown",
      "metadata": {
        "id": "ZyYKKW8JUDid"
      },
      "source": [
        "Lo primero que se observa es que los dataframes no tienen igual cantidad de registros, asi que se procede a hacer un cruce con los datos coincidentes."
      ]
    },
    {
      "cell_type": "code",
      "execution_count": null,
      "metadata": {
        "id": "RvYgAyrET7m_"
      },
      "outputs": [],
      "source": [
        "df_players_salarios = df_salarios.merge(df_players, left_on='Player', right_on='Name')"
      ]
    },
    {
      "cell_type": "code",
      "execution_count": null,
      "metadata": {
        "colab": {
          "base_uri": "https://localhost:8080/"
        },
        "id": "xC5jzNU3UZ02",
        "outputId": "fa0c7e7f-5634-48ad-a22c-a883458d2c60"
      },
      "outputs": [
        {
          "name": "stdout",
          "output_type": "stream",
          "text": [
            "Unnamed: 0              0\n",
            "Player                  0\n",
            "Weekly Salary           0\n",
            "Name                    0\n",
            "Nationality             0\n",
            "National_Position    1527\n",
            "Club_Position           0\n",
            "Height                  0\n",
            "Weight                  0\n",
            "Preffered_Foot          0\n",
            "Age                     0\n",
            "Work_Rate               0\n",
            "Weak_foot               0\n",
            "Skill_Moves             0\n",
            "Ball_Control            0\n",
            "Dribbling               0\n",
            "Marking                 0\n",
            "Sliding_Tackle          0\n",
            "Standing_Tackle         0\n",
            "Aggression              0\n",
            "Reactions               0\n",
            "Interceptions           0\n",
            "Vision                  0\n",
            "Composure               0\n",
            "Crossing                0\n",
            "Short_Pass              0\n",
            "Long_Pass               0\n",
            "Acceleration            0\n",
            "Speed                   0\n",
            "Stamina                 0\n",
            "Strength                0\n",
            "Balance                 0\n",
            "Agility                 0\n",
            "Jumping                 0\n",
            "Heading                 0\n",
            "Shot_Power              0\n",
            "Finishing               0\n",
            "Long_Shots              0\n",
            "Curve                   0\n",
            "Freekick_Accuracy       0\n",
            "Penalties               0\n",
            "Volleys                 0\n",
            "Seleccionado            0\n",
            "dtype: int64\n"
          ]
        }
      ],
      "source": [
        "# Contar valores nulos por columna\n",
        "valores_nulos_por_columna = df_players_salarios.isnull().sum()\n",
        "\n",
        "# Imprimir el recuento de valores nulos por columna\n",
        "print(valores_nulos_por_columna)"
      ]
    },
    {
      "cell_type": "code",
      "execution_count": null,
      "metadata": {
        "id": "6ILoWlzMU9cm"
      },
      "outputs": [],
      "source": [
        "df_players_salarios.drop(columns=['Player'], inplace=True)\n"
      ]
    },
    {
      "cell_type": "markdown",
      "metadata": {
        "id": "C0fG5PFQVBvM"
      },
      "source": [
        "En primer lugar, se analizan los diferentes tipos de variables y se clasifican en cuatro categorías: texto, numéricas, categóricas u ordinales. A continuación, se decide aplicar el Standard Scaler a las variables numéricas, dado que su distribución se asemeja a una distribución normal. Por otro lado, para las columnas categóricas se opta por utilizar el One-Hot Encoder, ya que representan categorías sin un orden específico. Por último, se elige el Ordinal Encoder para la variable Week_foot y Skill_Moves.\n",
        "\n",
        "Siguiendo la guía, notamos que estamos realizando predicciones con menos de 100,000 observaciones y un gran número de características, por lo que decidimos probar con Ridge Regression."
      ]
    },
    {
      "cell_type": "code",
      "execution_count": null,
      "metadata": {
        "id": "lsouCq8UVnFQ"
      },
      "outputs": [],
      "source": [
        "from sklearn.linear_model import Ridge\n",
        "\n",
        "numericas = ['Age','Weight','Height','Ball_Control', 'Dribbling', 'Marking', 'Sliding_Tackle',\n",
        "           'Standing_Tackle', 'Aggression', 'Reactions', 'Interceptions', 'Vision',\n",
        "           'Composure', 'Crossing', 'Short_Pass', 'Long_Pass', 'Acceleration',\n",
        "           'Speed', 'Stamina', 'Strength', 'Balance', 'Agility', 'Jumping',\n",
        "           'Heading', 'Shot_Power', 'Finishing', 'Long_Shots', 'Curve',\n",
        "           'Freekick_Accuracy', 'Penalties', 'Volleys']\n",
        "\n",
        "categoricas = ['Preffered_Foot','Work_Rate','Club_Position','Seleccionado']\n",
        "ordinal = ['Weak_foot','Skill_Moves']\n",
        "texto = ['Name','National_Position','Nationality']\n",
        "\n",
        "ct = ColumnTransformer(\n",
        "    [\n",
        "        ('One Hot',OneHotEncoder(sparse=False, handle_unknown=\"ignore\",drop='if_binary'),categoricas),\n",
        "        ('Ordinal',OrdinalEncoder(),ordinal),\n",
        "        ('Scaler',MinMaxScaler(),numericas)\n",
        "    ],\n",
        "    remainder='passthrough'\n",
        ")\n",
        "\n",
        "Ridge_reg = Pipeline(steps=[\n",
        "                      (\"preprocessing\", ct),\n",
        "                      (\"model\", Ridge())\n",
        "])"
      ]
    },
    {
      "cell_type": "code",
      "execution_count": null,
      "metadata": {
        "colab": {
          "base_uri": "https://localhost:8080/"
        },
        "id": "XZ83k28aWO2g",
        "outputId": "b8619460-1c77-401a-f0a8-1deb357710d9"
      },
      "outputs": [
        {
          "name": "stdout",
          "output_type": "stream",
          "text": [
            "R^2 en el conjunto de entrenamiento: 0.35\n",
            "R^2 en el conjunto de prueba: 0.24\n"
          ]
        }
      ],
      "source": [
        "from sklearn.metrics import r2_score\n",
        "\n",
        "labels = df_players_salarios.loc[:, \"Weekly Salary\"]\n",
        "features = df_players_salarios.drop(columns=texto + ['Weekly Salary'])\n",
        "X_train, X_test, y_train, y_test = train_test_split(features, labels, test_size=0.2, random_state=42)\n",
        "\n",
        "# Fit\n",
        "Ridge_reg.fit(X_train, y_train)\n",
        "\n",
        "# Predict\n",
        "y_train_pred = Ridge_reg.predict(X_train)\n",
        "y_test_pred = Ridge_reg.predict(X_test)\n",
        "\n",
        "# Resultados\n",
        "r2_train = r2_score(y_train, y_train_pred)\n",
        "r2_test = r2_score(y_test, y_test_pred)\n",
        "\n",
        "print(\"R^2 en el conjunto de entrenamiento: {:.2f}\".format(r2_train))\n",
        "print(\"R^2 en el conjunto de prueba: {:.2f}\".format(r2_test))"
      ]
    },
    {
      "cell_type": "markdown",
      "metadata": {
        "id": "THz0196LXH5G"
      },
      "source": [
        "Al probar Ridge Regression, notamos que los resultados no cumplen con los requisitos establecidos por Renacin. Siguiendo sus indicaciones, procedemos a considerar la siguiente opción, que corresponde a Ensemble Regressor. En donde se usara RandomForestRegressor"
      ]
    },
    {
      "cell_type": "code",
      "execution_count": null,
      "metadata": {
        "colab": {
          "base_uri": "https://localhost:8080/"
        },
        "id": "pA5IBiKkX-9J",
        "outputId": "b392568d-305d-45b2-c364-603cf0589297"
      },
      "outputs": [
        {
          "name": "stdout",
          "output_type": "stream",
          "text": [
            "R^2 en train (Random Forest Regressor): 0.96\n",
            "R^2 en test (Random Forest Regressor): 0.58\n"
          ]
        }
      ],
      "source": [
        "from sklearn.ensemble import RandomForestRegressor\n",
        "rf_reg = Pipeline(steps=[\n",
        "                      (\"preprocessing\", ct),\n",
        "                      (\"model\", RandomForestRegressor(random_state=42))\n",
        "])\n",
        "\n",
        "# Fit\n",
        "rf_reg.fit(X_train, y_train)\n",
        "\n",
        "# Predict\n",
        "y_train_pred = rf_reg.predict(X_train)\n",
        "y_test_pred = rf_reg.predict(X_test)\n",
        "\n",
        "# Resultados para el modelo de Random Forest Regressor\n",
        "r2_train_rf = r2_score(y_train, y_train_pred)\n",
        "r2_test_rf = r2_score(y_test, y_test_pred)\n",
        "\n",
        "print(\"R^2 en train (Random Forest Regressor): {:.2f}\".format(r2_train_rf))\n",
        "print(\"R^2 en test (Random Forest Regressor): {:.2f}\".format(r2_test_rf))"
      ]
    },
    {
      "cell_type": "markdown",
      "metadata": {
        "id": "1qP0uZ7hYStS"
      },
      "source": [
        "No le fallamos a Renacin <3"
      ]
    },
    {
      "cell_type": "markdown",
      "metadata": {
        "id": "RO2lBo46YYCI"
      },
      "source": [
        "El modelo de regresión de Random Forest logra un R^2 de 0.58 en el conjunto de prueba, superando el puntaje de 0.24 obtenido por la regresión Ridge. Esta superioridad podría atribuirse a la capacidad de los bosques aleatorios para modelar relaciones no lineales y de alta dimensión entre las características. En contraste, la regresión Ridge es un modelo lineal que asume una relación lineal entre las características y la variable objetivo. Si las relaciones subyacentes en los datos son verdaderamente no lineales, los modelos basados en árboles, como el bosque aleatorio, tienen más probabilidades de capturar estas relaciones de manera efectiva en comparación con los modelos lineales, como Ridge.\n",
        "\n",
        "Para mejorar aún más el rendimiento del modelo, se podría considerar la adición de más datos, ya que al cruzar los datos de las bases de datos de salarios y jugadroes se obtiene un total de 1,866 filas, loo que es poco. Además, se podría aumentar la cantidad de características utilizadas, como incorporar caracteristicas de rendimiento de los jugadores y variables economicas que afecten al pais en que esta jugando el jugador."
      ]
    },
    {
      "cell_type": "markdown",
      "metadata": {
        "cell_id": "502994b597214d4ba2f05e2b900d895c",
        "deepnote_cell_type": "markdown",
        "id": "Rg4ZMq8ezAH6"
      },
      "source": [
        "# Conclusión\n",
        "Eso ha sido todo para el lab de hoy, recuerden que el laboratorio tiene un plazo de entrega de una semana. Cualquier duda del laboratorio, no duden en contactarnos por mail o U-cursos.\n",
        "\n",
        "<p align=\"center\">\n",
        "  <img src=\"https://media2.giphy.com/media/l1J3CbFgn5o7DGRuE/giphy.gif\">\n",
        "</p>"
      ]
    },
    {
      "cell_type": "markdown",
      "metadata": {
        "cell_id": "da6d643bcf1542a8b119a15edaf0f75c",
        "deepnote_cell_type": "markdown",
        "id": "wCL1lACBzAH7"
      },
      "source": [
        "<br>\n",
        "<center>\n",
        "<img src=\"https://i.kym-cdn.com/photos/images/original/001/194/195/b18.png\" width=100 height=50 />\n",
        "</center>\n",
        "<br>"
      ]
    },
    {
      "cell_type": "markdown",
      "metadata": {
        "created_in_deepnote_cell": true,
        "deepnote_cell_type": "markdown",
        "id": "XPMgI87g_Fdj"
      },
      "source": [
        "<a style='text-decoration:none;line-height:16px;display:flex;color:#5B5B62;padding:10px;justify-content:end;' href='https://deepnote.com?utm_source=created-in-deepnote-cell&projectId=87110296-876e-426f-b91d-aaf681223468' target=\"_blank\">\n",
        "<img alt='Created in deepnote.com' style='display:inline;max-height:16px;margin:0px;margin-right:7.5px;' src='data:image/svg+xml;base64,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' > </img>\n",
        "Created in <span style='font-weight:600;margin-left:4px;'>Deepnote</span></a>"
      ]
    }
  ],
  "metadata": {
    "colab": {
      "provenance": []
    },
    "deepnote": {},
    "deepnote_execution_queue": [],
    "deepnote_notebook_id": "41ad7e529bfb484c8f7f538003203695",
    "kernelspec": {
      "display_name": "Python 3",
      "language": "python",
      "name": "python3"
    },
    "language_info": {
      "codemirror_mode": {
        "name": "ipython",
        "version": 3
      },
      "file_extension": ".py",
      "mimetype": "text/x-python",
      "name": "python",
      "nbconvert_exporter": "python",
      "pygments_lexer": "ipython3",
      "version": "3.8.3"
    },
    "toc": {
      "base_numbering": 1,
      "nav_menu": {},
      "number_sections": true,
      "sideBar": true,
      "skip_h1_title": true,
      "title_cell": "Tabla de Contenidos",
      "title_sidebar": "Contenidos",
      "toc_cell": false,
      "toc_position": {
        "height": "calc(100% - 180px)",
        "left": "10px",
        "top": "150px",
        "width": "241.867px"
      },
      "toc_section_display": true,
      "toc_window_display": true
    },
    "varInspector": {
      "cols": {
        "lenName": 16,
        "lenType": 16,
        "lenVar": 40
      },
      "kernels_config": {
        "python": {
          "delete_cmd_postfix": "",
          "delete_cmd_prefix": "del ",
          "library": "var_list.py",
          "varRefreshCmd": "print(var_dic_list())"
        },
        "r": {
          "delete_cmd_postfix": ") ",
          "delete_cmd_prefix": "rm(",
          "library": "var_list.r",
          "varRefreshCmd": "cat(var_dic_list()) "
        }
      },
      "types_to_exclude": [
        "module",
        "function",
        "builtin_function_or_method",
        "instance",
        "_Feature"
      ],
      "window_display": false
    }
  },
  "nbformat": 4,
  "nbformat_minor": 0
}
